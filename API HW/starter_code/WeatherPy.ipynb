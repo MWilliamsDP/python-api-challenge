{
 "cells": [
  {
   "cell_type": "markdown",
   "metadata": {},
   "source": [
    "# WeatherPy\n",
    "----\n",
    "\n",
    "#### Note\n",
    "* Instructions have been included for each segment. You do not have to follow them exactly, but they are included to help you think through the steps."
   ]
  },
  {
   "cell_type": "code",
   "execution_count": 1,
   "metadata": {
    "scrolled": true
   },
   "outputs": [
    {
     "name": "stdout",
     "output_type": "stream",
     "text": [
      "Requirement already satisfied: citipy in c:\\users\\mw\\anaconda3\\lib\\site-packages (0.0.5)\n",
      "Requirement already satisfied: kdtree>=0.12 in c:\\users\\mw\\anaconda3\\lib\\site-packages (from citipy) (0.16)\n"
     ]
    }
   ],
   "source": [
    "!pip install citipy\n",
    "# Dependencies and Setup\n",
    "import matplotlib.pyplot as plt\n",
    "import pandas as pd\n",
    "import numpy as np\n",
    "import requests\n",
    "import time\n",
    "from scipy.stats import linregress\n",
    "\n",
    "# Import API key\n",
    "#from config import api_key\n",
    "from api_keys import weather_api_key\n",
    "from pprint import pprint\n",
    "# Incorporated citipy to determine city based on latitude and longitude\n",
    "from citipy import citipy\n",
    "\n",
    "# Output File (CSV)\n",
    "output_data_file = \"output_data/cities.csv\"\n",
    "\n",
    "# Range of latitudes and longitudes\n",
    "lat_range = (-90, 90)\n",
    "lng_range = (-180, 180)\n"
   ]
  },
  {
   "cell_type": "code",
   "execution_count": 2,
   "metadata": {},
   "outputs": [],
   "source": [
    "key=weather_api_key\n"
   ]
  },
  {
   "cell_type": "markdown",
   "metadata": {},
   "source": [
    "## Generate Cities List"
   ]
  },
  {
   "cell_type": "code",
   "execution_count": 3,
   "metadata": {},
   "outputs": [
    {
     "name": "stdout",
     "output_type": "stream",
     "text": [
      "580\n",
      "['sibolga', 'lebu', 'nanortalik', 'saint-philippe', 'bowen', 'ushuaia', 'castro', 'toora-khem', 'bambous virieux', 'thompson', 'taolanaro', 'carnarvon', 'praia', 'souillac', 'tasiilaq', 'cap malheureux', 'isiolo', 'puerto ayora', 'guerrero negro', 'ondorhaan', 'cape town', 'jomalig', 'kokoda', 'chokurdakh', 'fortuna', 'qaanaaq', 'rikitea', 'padang', 'albany', 'ust-kuyga', 'mataura', 'narsaq', 'cidreira', 'marcona', 'east london', 'kuche', 'hermanus', 'iqaluit', 'inta', 'hobart', 'taoudenni', 'vaini', 'new norfolk', 'busselton', 'barentsburg', 'punta arenas', 'kualakapuas', 'sao filipe', 'georgetown', 'grand river south east', 'tahta', 'ulaanbaatar', 'clarence town', 'jamestown', 'the valley', 'lagos', 'husavik', 'mendota', 'pevek', 'batagay', 'butaritari', 'bredasdorp', 'port alfred', 'bethel', 'tachi', 'henzada', 'hami', 'barrow', 'coahuayana', 'blora', 'college', 'cabo san lucas', 'hilo', 'sarangani', 'kaitangata', 'aflu', 'lulea', 'esperance', 'wagar', 'grindavik', 'oranjemund', 'airai', 'nizhneyansk', 'provideniya', 'tual', 'praia da vitoria', 'hasaki', 'barra do garcas', 'tecoanapa', 'torbay', 'mastic beach', 'qaqortoq', 'metro', 'coquimbo', 'sinnamary', 'athabasca', 'clyde river', 'obrenovac', 'abu zabad', 'grand gaube', 'sampit', 'kapaa', 'kloulklubed', 'port-cartier', 'gat', 'amderma', 'saint-pierre', 'bluff', 'kavaratti', 'hithadhoo', 'paramonga', 'comodoro rivadavia', 'san patricio', 'toul', 'berlevag', 'belushya guba', 'arraial do cabo', 'chuy', 'griffith', 'mandera', 'umm lajj', 'manuk mangkaw', 'kodiak', 'nikolskoye', 'tabuk', 'svetlogorsk', 'atuona', 'bama', 'fevralsk', 'mungwi', 'sitka', 'darhan', 'belyy yar', 'surt', 'farakka', 'athens', 'codrington', 'kaohsiung', 'vizinga', 'marovoay', 'imaculada', 'itatskiy', 'sao joao da barra', 'monetnyy', 'san-pedro', 'jalu', 'dali', 'saldanha', 'port elizabeth', 'hofn', 'krivodanovka', 'tsihombe', 'hambantota', 'victoria', 'tadine', 'muriwai beach', 'katsuura', 'san antonio', 'isangel', 'rudnogorsk', 'luderitz', 'leshukonskoye', 'skjervoy', 'zhigansk', 'adwa', 'avarua', 'nishihara', 'doha', 'upernavik', 'pemangkat', 'flin flon', 'saint george', 'port hawkesbury', 'vao', 'vostok', 'acarau', 'illoqqortoormiut', 'coffs harbour', 'yellowknife', 'mabaruma', 'saskylakh', 'san quintin', 'tuktoyaktuk', 'rocha', 'constitucion', 'kahului', 'san ramon', 'ilulissat', 'santarem', 'longyan', 'torzhok', 'jiaojiang', 'isla aguada', 'virginia beach', 'tabiauea', 'labuhan', 'taltal', 'newport', 'morondava', 'nuuk', 'nhulunbuy', 'ugoofaaru', 'nadym', 'chenzhou', 'ribeira grande', 'warqla', 'balykshi', 'ampanihy', 'fuyu', 'tilichiki', 'kadaya', 'murgab', 'cutro', 'suntar', 'sechura', 'la paz', 'zvishavane', 'zeya', 'tazovskiy', 'lodja', 'ponta do sol', 'copiapo', 'nanakuli', 'khatanga', 'polignano a mare', 'islahiye', 'nchelenge', 'norman wells', 'kassala', 'samarai', 'plan-les-ouates', 'vila velha', 'riberalta', 'saint-jerome', 'thabazimbi', 'mys shmidta', 'hunza', 'mutoko', 'pacific grove', 'santa maria', 'haines junction', 'palabuhanratu', 'springbok', 'hoquiam', 'inhambane', 'marsh harbour', 'severo-kurilsk', 'andevoranto', 'richards bay', 'sal rei', 'naze', 'tongliao', 'beringovskiy', 'onguday', 'mafinga', 'ambilobe', 'hernani', 'at-bashi', 'klaksvik', 'ulladulla', 'wamba', 'bandarbeyla', 'mahebourg', 'erzin', 'limbang', 'miri', 'turukhansk', 'jiuquan', 'xai-xai', 'saleaula', 'yumen', 'quatre cocos', 'asau', 'waw', 'bogoslovka', 'altay', 'harper', 'vaitupu', 'cherskiy', 'lahat', 'sursk', 'soyo', 'stropkov', 'puerto del rosario', 'sorab', 'deputatskiy', 'lerwick', 'lampazos de naranjo', 'goure', 'zaysan', 'kobryn', 'sentyabrskiy', 'shangzhi', 'belaya gora', 'rock sound', 'zabid', 'acari', 'lichtenburg', 'bathsheba', 'krasnoselkup', 'udachnyy', 'chapais', 'laramie', 'aykhal', 'longyearbyen', 'bengkulu', 'azimur', 'brooks', 'ouallam', 'tumannyy', 'mar del plata', 'bullhead city', 'waimana', 'samalaeulu', 'santa cruz', 'tarudant', 'swan hill', 'imbituba', 'havelock', 'neiafu', 'tolaga bay', 'port keats', 'messina', 'zunyi', 'monrovia', 'kinsale', 'ekuvukeni', 'oistins', 'kindu', 'mount pleasant', 'luanda', 'camacha', 'sovetskaya gavan', 'mehamn', 'ulaangom', 'yelizovo', 'kitaibaraki', 'ixtapa', 'tiksi', 'murighiol', 'kerema', 'dikson', 'ust-karsk', 'kieta', 'kupang', 'bayji', 'okandja', 'kavieng', 'aklavik', 'camopi', 'ban dung', 'ambon', 'galesong', 'monteagudo', 'canto do buriti', 'wahran', 'olinda', 'champerico', 'balabac', 'ancud', 'sioux lookout', 'pushkino', 'goianesia', 'kuching', 'ketchikan', 'lorengau', 'lincoln', 'san jeronimo', 'gulu', 'pangnirtung', 'kinshasa', 'lahij', 'waddan', 'natal', 'sawakin', 'ambovombe', 'kenitra', 'mangan', 'tramore', 'hella', 'thinadhoo', 'barranca', 'roebourne', 'trzebiatow', 'winnemucca', 'puerto palomas', 'vidim', 'mendoza', 'siguiri', 'forestville', 'port lincoln', 'nouadhibou', 'ust-tsilma', 'karratha', 'touros', 'chardara', 'paamiut', 'gamba', 'najran', 'pontianak', 'kasangulu', 'peniche', 'sola', 'faanui', 'imeni poliny osipenko', 'vila', 'flinders', 'atar', 'ahipara', 'massakory', 'weligama', 'vardo', 'bartica', 'narrabri', 'conakry', 'riyadh', 'laukaa', 'hihifo', 'marsa matruh', 'chekhov', 'namatanai', 'westport', 'vila franca do campo', 'namibe', 'yarada', 'margate', 'hobyo', 'carutapera', 'derzhavinsk', 'rudnik', 'kerteh', 'attawapiskat', 'san carlos de bariloche', 'la romana', 'bontang', 'cayeli', 'meulaboh', 'rawson', 'pauri', 'moyo', 'gilgit', 'tezu', 'tuatapere', 'biak', 'yulara', 'keetmanshoop', 'port blair', 'dicabisagan', 'abha', 'killybegs', 'presidencia roque saenz pena', 'bata', 'stralsund', 'kudowa-zdroj', 'marsala', 'la ronge', 'senmonorom', 'darnah', 'sinnar', 'saint pete beach', 'jidong', 'ust-omchug', 'korem', 'mudon', 'piacabucu', 'bababe', 'ballina', 'anadyr', 'bodden town', 'harduaganj', 'sinop', 'buala', 'fort nelson', 'leningradskiy', 'shubarkuduk', 'hamilton', 'canmore', 'portlethen', 'pedasi', 'baboua', 'nauchnyy gorodok', 'wheatley', 'maloshuyka', 'bundaberg', 'camiri', 'safonovo', 'gobabis', 'muzhi', 'roald', 'henties bay', 'tromso', 'katubao', 'mezen', 'lethem', 'maues', 'drayton valley', 'nador', 'cuiluan', 'kathu', 'okato', 'nicoya', 'san pedro', 'verkhoyansk', 'novobiryusinskiy', 'port hedland', 'kapiri mposhi', 'mount gambier', 'mundo nuevo', 'fairbanks', 'finschhafen', 'afyonkarahisar', 'luangwa', 'turinsk', 'victor harbor', 'manaus', 'kuruman', 'tiznit', 'salalah', 'senno', 'bahia de caraquez', 'tonantins', 'pringsewu', 'villa oliva', 'marrakesh', 'predivinsk', 'fayaoue', 'kardla', 'avera', 'samusu', 'sao felix do xingu', 'gatesville', 'porangatu', 'stawell', 'te anau', 'pisco', 'kosh-agach', 'jinxiang', 'honiara', 'sambava', 'lavrentiya', 'bubaque', 'phan rang', 'road town', 'turkan', 'vestmanna', 'maldonado', 'caravelas', 'mocambique', 'villazon', 'meadow lake', 'itarema', 'sao gabriel da cachoeira', 'izazi', 'poltavka', 'aswan', 'oktyabrskiy', 'ozernovskiy', 'ouesso', 'chimbote', 'ossora', 'poronaysk', 'okha', 'katsiveli', 'kruisfontein', 'adre', 'khargone', 'prince rupert', 'venancio aires', 'chokwe', 'batagay-alyta', 'gaozhou', 'qasigiannguit', 'yeppoon', 'mildura', 'gushikawa', 'batticaloa', 'sisimiut', 'argos', 'yuzhno-kurilsk', 'hualmay']\n"
     ]
    }
   ],
   "source": [
    "# List for holding lat_lngs and cities\n",
    "lat_lngs = []\n",
    "cities = []\n",
    "\n",
    "# Create a set of random lat and lng combinations\n",
    "lats = np.random.uniform(lat_range[0], lat_range[1], size=1500)\n",
    "lngs = np.random.uniform(lng_range[0], lng_range[1], size=1500)\n",
    "lat_lngs = zip(lats, lngs)\n",
    "\n",
    "# Identify nearest city for each lat, lng combination\n",
    "for lat_lng in lat_lngs:\n",
    "    city = citipy.nearest_city(lat_lng[0], lat_lng[1]).city_name\n",
    "    \n",
    "    # If the city is unique, then add it to a our cities list\n",
    "    if city not in cities:\n",
    "        cities.append(city)\n",
    "\n",
    "# Print the city count to confirm sufficient count\n",
    "print(len(cities))\n",
    "print(cities)"
   ]
  },
  {
   "cell_type": "code",
   "execution_count": 4,
   "metadata": {},
   "outputs": [],
   "source": [
    "#lists for different descriptors\n",
    "City = []\n",
    "cloudiness = []\n",
    "country = []\n",
    "date = []\n",
    "humidity = []\n",
    "lat = []\n",
    "lon = []\n",
    "maxTemp = []\n",
    "windspeed = []\n",
    "index = 0\n",
    "counter = 1\n",
    "\n",
    "\n"
   ]
  },
  {
   "cell_type": "markdown",
   "metadata": {},
   "source": [
    "### Perform API Calls\n",
    "* Perform a weather check on each city using a series of successive API calls.\n",
    "* Include a print log of each city as it's being processed (with the city number and city name).\n"
   ]
  },
  {
   "cell_type": "code",
   "execution_count": 5,
   "metadata": {
    "scrolled": true
   },
   "outputs": [
    {
     "name": "stdout",
     "output_type": "stream",
     "text": [
      "http://api.openweathermap.org/data/2.5/weather?appid=2dc0ee36740f5fce1c2181013faae54b&units=imperial&q=\n"
     ]
    }
   ],
   "source": [
    "url=\"http://api.openweathermap.org/data/2.5/weather?\"\n",
    "units='imperial'\n",
    "qurl = f\"{url}appid={key}&units={units}&q=\"\n",
    "#qurl=url + \"appid=\"+key+\"&q=\"\n",
    "print(qurl)"
   ]
  },
  {
   "cell_type": "code",
   "execution_count": 6,
   "metadata": {
    "scrolled": true
   },
   "outputs": [
    {
     "name": "stdout",
     "output_type": "stream",
     "text": [
      "Finding cities\n",
      "Retrieving City number 1 : sibolga\n",
      "Retrieving City number 1 : lebu\n",
      "Retrieving City number 1 : nanortalik\n",
      "Retrieving City number 1 : saint-philippe\n",
      "Retrieving City number 1 : bowen\n",
      "Retrieving City number 1 : ushuaia\n",
      "Retrieving City number 1 : castro\n",
      "Retrieving City number 1 : toora-khem\n",
      "Retrieving City number 1 : bambous virieux\n",
      "Retrieving City number 1 : thompson\n",
      "City not found. Skipping...\n",
      "Retrieving City number 1 : carnarvon\n",
      "Retrieving City number 1 : praia\n",
      "Retrieving City number 1 : souillac\n",
      "Retrieving City number 1 : tasiilaq\n",
      "Retrieving City number 1 : cap malheureux\n",
      "Retrieving City number 1 : isiolo\n",
      "Retrieving City number 1 : puerto ayora\n",
      "Retrieving City number 1 : guerrero negro\n",
      "City not found. Skipping...\n",
      "Retrieving City number 1 : cape town\n",
      "City not found. Skipping...\n",
      "Retrieving City number 1 : kokoda\n",
      "Retrieving City number 1 : chokurdakh\n",
      "Retrieving City number 1 : fortuna\n",
      "Retrieving City number 1 : qaanaaq\n",
      "Retrieving City number 1 : rikitea\n",
      "Retrieving City number 1 : padang\n",
      "Retrieving City number 1 : albany\n",
      "Retrieving City number 1 : ust-kuyga\n",
      "Retrieving City number 1 : mataura\n",
      "Retrieving City number 1 : narsaq\n",
      "Retrieving City number 1 : cidreira\n",
      "City not found. Skipping...\n",
      "Retrieving City number 1 : east london\n",
      "City not found. Skipping...\n",
      "Retrieving City number 1 : hermanus\n",
      "Retrieving City number 1 : iqaluit\n",
      "Retrieving City number 1 : inta\n",
      "Retrieving City number 1 : hobart\n",
      "Retrieving City number 1 : taoudenni\n",
      "Retrieving City number 1 : vaini\n",
      "Retrieving City number 1 : new norfolk\n",
      "Retrieving City number 1 : busselton\n",
      "City not found. Skipping...\n",
      "Retrieving City number 1 : punta arenas\n",
      "Retrieving City number 1 : kualakapuas\n",
      "Retrieving City number 1 : sao filipe\n",
      "Retrieving City number 1 : georgetown\n",
      "City not found. Skipping...\n",
      "Retrieving City number 2 : tahta\n",
      "Retrieving City number 3 : ulaanbaatar\n",
      "Retrieving City number 4 : clarence town\n",
      "Retrieving City number 5 : jamestown\n",
      "Retrieving City number 6 : the valley\n",
      "Retrieving City number 7 : lagos\n",
      "Retrieving City number 8 : husavik\n",
      "Retrieving City number 9 : mendota\n",
      "Retrieving City number 10 : pevek\n",
      "Retrieving City number 11 : batagay\n",
      "Retrieving City number 12 : butaritari\n",
      "Retrieving City number 13 : bredasdorp\n",
      "Retrieving City number 14 : port alfred\n",
      "Retrieving City number 15 : bethel\n",
      "City not found. Skipping...\n",
      "City not found. Skipping...\n",
      "Retrieving City number 16 : hami\n",
      "Retrieving City number 17 : barrow\n",
      "Retrieving City number 18 : coahuayana\n",
      "Retrieving City number 19 : blora\n",
      "Retrieving City number 20 : college\n",
      "Retrieving City number 21 : cabo san lucas\n",
      "Retrieving City number 22 : hilo\n",
      "Retrieving City number 23 : sarangani\n",
      "Retrieving City number 24 : kaitangata\n",
      "City not found. Skipping...\n",
      "Retrieving City number 25 : lulea\n",
      "Retrieving City number 26 : esperance\n",
      "Retrieving City number 27 : wagar\n",
      "Retrieving City number 28 : grindavik\n",
      "Retrieving City number 29 : oranjemund\n",
      "Retrieving City number 30 : airai\n",
      "City not found. Skipping...\n",
      "Retrieving City number 31 : provideniya\n",
      "Retrieving City number 32 : tual\n",
      "Retrieving City number 33 : praia da vitoria\n",
      "Retrieving City number 34 : hasaki\n",
      "Retrieving City number 35 : barra do garcas\n",
      "Retrieving City number 36 : tecoanapa\n",
      "Retrieving City number 37 : torbay\n",
      "Retrieving City number 38 : mastic beach\n",
      "Retrieving City number 39 : qaqortoq\n",
      "Retrieving City number 40 : metro\n",
      "Retrieving City number 41 : coquimbo\n",
      "Retrieving City number 42 : sinnamary\n",
      "Retrieving City number 43 : athabasca\n",
      "Retrieving City number 44 : clyde river\n",
      "Retrieving City number 45 : obrenovac\n",
      "Retrieving City number 46 : abu zabad\n",
      "Retrieving City number 47 : grand gaube\n",
      "Retrieving City number 48 : sampit\n",
      "Retrieving City number 49 : kapaa\n",
      "Retrieving City number 50 : kloulklubed\n",
      "Retrieving City number 51 : port-cartier\n",
      "Retrieving City number 52 : gat\n",
      "City not found. Skipping...\n",
      "Retrieving City number 53 : saint-pierre\n",
      "Retrieving City number 54 : bluff\n",
      "Retrieving City number 55 : kavaratti\n",
      "Retrieving City number 56 : hithadhoo\n",
      "Retrieving City number 57 : paramonga\n",
      "Retrieving City number 58 : comodoro rivadavia\n",
      "Retrieving City number 59 : san patricio\n",
      "Retrieving City number 60 : toul\n",
      "Retrieving City number 61 : berlevag\n",
      "City not found. Skipping...\n",
      "Retrieving City number 62 : arraial do cabo\n",
      "Retrieving City number 63 : chuy\n",
      "Retrieving City number 64 : griffith\n",
      "Retrieving City number 65 : mandera\n",
      "Retrieving City number 66 : umm lajj\n",
      "Retrieving City number 67 : manuk mangkaw\n",
      "Retrieving City number 68 : kodiak\n",
      "Retrieving City number 69 : nikolskoye\n",
      "Retrieving City number 70 : tabuk\n",
      "Retrieving City number 71 : svetlogorsk\n",
      "Retrieving City number 72 : atuona\n",
      "Retrieving City number 73 : bama\n",
      "City not found. Skipping...\n",
      "Retrieving City number 74 : mungwi\n",
      "Retrieving City number 75 : sitka\n",
      "Retrieving City number 76 : darhan\n",
      "Retrieving City number 77 : belyy yar\n",
      "Retrieving City number 78 : surt\n",
      "Retrieving City number 79 : farakka\n",
      "Retrieving City number 80 : athens\n",
      "Retrieving City number 81 : codrington\n",
      "Retrieving City number 82 : kaohsiung\n",
      "Retrieving City number 83 : vizinga\n",
      "Retrieving City number 84 : marovoay\n",
      "Retrieving City number 85 : imaculada\n",
      "Retrieving City number 86 : itatskiy\n",
      "Retrieving City number 87 : sao joao da barra\n",
      "Retrieving City number 88 : monetnyy\n",
      "Retrieving City number 89 : san-pedro\n",
      "Retrieving City number 90 : jalu\n",
      "Retrieving City number 91 : dali\n",
      "Retrieving City number 92 : saldanha\n",
      "Retrieving City number 93 : port elizabeth\n",
      "Retrieving City number 94 : hofn\n",
      "Retrieving City number 95 : krivodanovka\n",
      "City not found. Skipping...\n",
      "Retrieving City number 96 : hambantota\n",
      "Retrieving City number 97 : victoria\n",
      "Retrieving City number 98 : tadine\n",
      "Retrieving City number 99 : muriwai beach\n",
      "Retrieving City number 100 : katsuura\n",
      "Retrieving City number 101 : san antonio\n",
      "Retrieving City number 102 : isangel\n",
      "Retrieving City number 103 : rudnogorsk\n",
      "Retrieving City number 104 : luderitz\n",
      "Retrieving City number 105 : leshukonskoye\n",
      "Retrieving City number 106 : skjervoy\n",
      "Retrieving City number 107 : zhigansk\n",
      "Retrieving City number 108 : adwa\n",
      "Retrieving City number 109 : avarua\n",
      "Retrieving City number 110 : nishihara\n",
      "Retrieving City number 111 : doha\n",
      "Retrieving City number 112 : upernavik\n",
      "Retrieving City number 113 : pemangkat\n",
      "Retrieving City number 114 : flin flon\n",
      "Retrieving City number 115 : saint george\n",
      "Retrieving City number 116 : port hawkesbury\n",
      "Retrieving City number 117 : vao\n",
      "Retrieving City number 118 : vostok\n",
      "Retrieving City number 119 : acarau\n",
      "City not found. Skipping...\n",
      "Retrieving City number 120 : coffs harbour\n",
      "Retrieving City number 121 : yellowknife\n",
      "Retrieving City number 122 : mabaruma\n",
      "Retrieving City number 123 : saskylakh\n",
      "Retrieving City number 124 : san quintin\n",
      "Retrieving City number 125 : tuktoyaktuk\n",
      "Retrieving City number 126 : rocha\n",
      "Retrieving City number 127 : constitucion\n",
      "Retrieving City number 128 : kahului\n",
      "Retrieving City number 129 : san ramon\n",
      "Retrieving City number 130 : ilulissat\n",
      "Retrieving City number 131 : santarem\n",
      "Retrieving City number 132 : longyan\n",
      "Retrieving City number 133 : torzhok\n",
      "Retrieving City number 134 : jiaojiang\n",
      "Retrieving City number 135 : isla aguada\n",
      "Retrieving City number 136 : virginia beach\n",
      "City not found. Skipping...\n",
      "Retrieving City number 137 : labuhan\n",
      "Retrieving City number 138 : taltal\n",
      "Retrieving City number 139 : newport\n",
      "Retrieving City number 140 : morondava\n",
      "Retrieving City number 141 : nuuk\n",
      "Retrieving City number 142 : nhulunbuy\n",
      "Retrieving City number 143 : ugoofaaru\n",
      "Retrieving City number 144 : nadym\n",
      "Retrieving City number 145 : chenzhou\n",
      "Retrieving City number 146 : ribeira grande\n",
      "City not found. Skipping...\n",
      "Retrieving City number 147 : balykshi\n",
      "Retrieving City number 148 : ampanihy\n",
      "Retrieving City number 149 : fuyu\n",
      "Retrieving City number 150 : tilichiki\n",
      "Retrieving City number 151 : kadaya\n",
      "Retrieving City number 152 : murgab\n",
      "Retrieving City number 153 : cutro\n",
      "Retrieving City number 154 : suntar\n",
      "Retrieving City number 155 : sechura\n",
      "Retrieving City number 156 : la paz\n",
      "Retrieving City number 157 : zvishavane\n",
      "Retrieving City number 158 : zeya\n",
      "Retrieving City number 159 : tazovskiy\n",
      "Retrieving City number 160 : lodja\n",
      "Retrieving City number 161 : ponta do sol\n",
      "Retrieving City number 162 : copiapo\n",
      "Retrieving City number 163 : nanakuli\n",
      "Retrieving City number 164 : khatanga\n"
     ]
    },
    {
     "name": "stdout",
     "output_type": "stream",
     "text": [
      "Retrieving City number 165 : polignano a mare\n",
      "Retrieving City number 166 : islahiye\n",
      "Retrieving City number 167 : nchelenge\n",
      "Retrieving City number 168 : norman wells\n",
      "Retrieving City number 169 : kassala\n",
      "Retrieving City number 170 : samarai\n",
      "Retrieving City number 171 : plan-les-ouates\n",
      "Retrieving City number 172 : vila velha\n",
      "Retrieving City number 173 : riberalta\n",
      "Retrieving City number 174 : saint-jerome\n",
      "Retrieving City number 175 : thabazimbi\n",
      "City not found. Skipping...\n",
      "City not found. Skipping...\n",
      "Retrieving City number 176 : mutoko\n",
      "Retrieving City number 177 : pacific grove\n",
      "Retrieving City number 178 : santa maria\n",
      "Retrieving City number 179 : haines junction\n",
      "City not found. Skipping...\n",
      "Retrieving City number 180 : springbok\n",
      "Retrieving City number 181 : hoquiam\n",
      "Retrieving City number 182 : inhambane\n",
      "Retrieving City number 183 : marsh harbour\n",
      "Retrieving City number 184 : severo-kurilsk\n",
      "City not found. Skipping...\n",
      "Retrieving City number 185 : richards bay\n",
      "Retrieving City number 186 : sal rei\n",
      "Retrieving City number 187 : naze\n",
      "Retrieving City number 188 : tongliao\n",
      "Retrieving City number 189 : beringovskiy\n",
      "Retrieving City number 190 : onguday\n",
      "Retrieving City number 191 : mafinga\n",
      "Retrieving City number 192 : ambilobe\n",
      "Retrieving City number 193 : hernani\n",
      "Retrieving City number 194 : at-bashi\n",
      "Retrieving City number 195 : klaksvik\n",
      "Retrieving City number 196 : ulladulla\n",
      "Retrieving City number 197 : wamba\n",
      "Retrieving City number 198 : bandarbeyla\n",
      "Retrieving City number 199 : mahebourg\n",
      "Retrieving City number 200 : erzin\n",
      "Retrieving City number 201 : limbang\n",
      "Retrieving City number 202 : miri\n",
      "Retrieving City number 203 : turukhansk\n",
      "Retrieving City number 204 : jiuquan\n",
      "Retrieving City number 205 : xai-xai\n",
      "City not found. Skipping...\n",
      "Retrieving City number 206 : yumen\n",
      "Retrieving City number 207 : quatre cocos\n",
      "Retrieving City number 208 : asau\n",
      "Retrieving City number 209 : waw\n",
      "Retrieving City number 210 : bogoslovka\n",
      "Retrieving City number 211 : altay\n",
      "Retrieving City number 212 : harper\n",
      "City not found. Skipping...\n",
      "Retrieving City number 213 : cherskiy\n",
      "Retrieving City number 214 : lahat\n",
      "Retrieving City number 215 : sursk\n",
      "Retrieving City number 216 : soyo\n",
      "Retrieving City number 217 : stropkov\n",
      "Retrieving City number 218 : puerto del rosario\n",
      "Retrieving City number 219 : sorab\n",
      "Retrieving City number 220 : deputatskiy\n",
      "Retrieving City number 221 : lerwick\n",
      "Retrieving City number 222 : lampazos de naranjo\n",
      "Retrieving City number 223 : goure\n",
      "Retrieving City number 224 : zaysan\n",
      "Retrieving City number 225 : kobryn\n",
      "City not found. Skipping...\n",
      "Retrieving City number 226 : shangzhi\n",
      "Retrieving City number 227 : belaya gora\n",
      "Retrieving City number 228 : rock sound\n",
      "Retrieving City number 229 : zabid\n",
      "Retrieving City number 230 : acari\n",
      "Retrieving City number 231 : lichtenburg\n",
      "Retrieving City number 232 : bathsheba\n",
      "Retrieving City number 233 : krasnoselkup\n",
      "Retrieving City number 234 : udachnyy\n",
      "Retrieving City number 235 : chapais\n",
      "Retrieving City number 236 : laramie\n",
      "Retrieving City number 237 : aykhal\n",
      "Retrieving City number 238 : longyearbyen\n",
      "Retrieving City number 239 : bengkulu\n",
      "City not found. Skipping...\n",
      "Retrieving City number 240 : brooks\n",
      "Retrieving City number 241 : ouallam\n",
      "City not found. Skipping...\n",
      "Retrieving City number 242 : mar del plata\n",
      "Retrieving City number 243 : bullhead city\n",
      "Retrieving City number 244 : waimana\n",
      "City not found. Skipping...\n",
      "Retrieving City number 245 : santa cruz\n",
      "City not found. Skipping...\n",
      "Retrieving City number 246 : swan hill\n",
      "Retrieving City number 247 : imbituba\n",
      "Retrieving City number 248 : havelock\n",
      "Retrieving City number 249 : neiafu\n",
      "Retrieving City number 250 : tolaga bay\n",
      "Retrieving City number 251 : port keats\n",
      "Retrieving City number 252 : messina\n",
      "Retrieving City number 253 : zunyi\n",
      "Retrieving City number 254 : monrovia\n",
      "Retrieving City number 255 : kinsale\n",
      "Retrieving City number 256 : ekuvukeni\n",
      "Retrieving City number 257 : oistins\n",
      "Retrieving City number 258 : kindu\n",
      "Retrieving City number 259 : mount pleasant\n",
      "Retrieving City number 260 : luanda\n",
      "Retrieving City number 261 : camacha\n",
      "Retrieving City number 262 : sovetskaya gavan\n",
      "Retrieving City number 263 : mehamn\n",
      "Retrieving City number 264 : ulaangom\n",
      "Retrieving City number 265 : yelizovo\n",
      "Retrieving City number 266 : kitaibaraki\n",
      "Retrieving City number 267 : ixtapa\n",
      "Retrieving City number 268 : tiksi\n",
      "Retrieving City number 269 : murighiol\n",
      "Retrieving City number 270 : kerema\n",
      "Retrieving City number 271 : dikson\n",
      "Retrieving City number 272 : ust-karsk\n",
      "Retrieving City number 273 : kieta\n",
      "Retrieving City number 274 : kupang\n",
      "Retrieving City number 275 : bayji\n",
      "City not found. Skipping...\n",
      "Retrieving City number 276 : kavieng\n",
      "Retrieving City number 277 : aklavik\n",
      "Retrieving City number 278 : camopi\n",
      "Retrieving City number 279 : ban dung\n",
      "Retrieving City number 280 : ambon\n",
      "Retrieving City number 281 : galesong\n",
      "Retrieving City number 282 : monteagudo\n",
      "Retrieving City number 283 : canto do buriti\n",
      "City not found. Skipping...\n",
      "Retrieving City number 284 : olinda\n",
      "Retrieving City number 285 : champerico\n",
      "Retrieving City number 286 : balabac\n",
      "Retrieving City number 287 : ancud\n",
      "Retrieving City number 288 : sioux lookout\n",
      "Retrieving City number 289 : pushkino\n",
      "Retrieving City number 290 : goianesia\n",
      "Retrieving City number 291 : kuching\n",
      "Retrieving City number 292 : ketchikan\n",
      "Retrieving City number 293 : lorengau\n",
      "Retrieving City number 294 : lincoln\n",
      "Retrieving City number 295 : san jeronimo\n",
      "Retrieving City number 296 : gulu\n",
      "Retrieving City number 297 : pangnirtung\n",
      "Retrieving City number 298 : kinshasa\n",
      "Retrieving City number 299 : lahij\n",
      "Retrieving City number 300 : waddan\n",
      "Retrieving City number 301 : natal\n",
      "Retrieving City number 302 : sawakin\n",
      "Retrieving City number 303 : ambovombe\n",
      "Retrieving City number 304 : kenitra\n",
      "Retrieving City number 305 : mangan\n",
      "Retrieving City number 306 : tramore\n",
      "Retrieving City number 307 : hella\n",
      "Retrieving City number 308 : thinadhoo\n",
      "Retrieving City number 309 : barranca\n",
      "Retrieving City number 310 : roebourne\n",
      "Retrieving City number 311 : trzebiatow\n",
      "Retrieving City number 312 : winnemucca\n",
      "Retrieving City number 313 : puerto palomas\n",
      "Retrieving City number 314 : vidim\n",
      "Retrieving City number 315 : mendoza\n",
      "Retrieving City number 316 : siguiri\n",
      "Retrieving City number 317 : forestville\n",
      "Retrieving City number 318 : port lincoln\n",
      "Retrieving City number 319 : nouadhibou\n",
      "Retrieving City number 320 : ust-tsilma\n",
      "Retrieving City number 321 : karratha\n",
      "Retrieving City number 322 : touros\n",
      "Retrieving City number 323 : chardara\n",
      "Retrieving City number 324 : paamiut\n",
      "Retrieving City number 325 : gamba\n",
      "Retrieving City number 326 : najran\n",
      "Retrieving City number 327 : pontianak\n",
      "Retrieving City number 328 : kasangulu\n",
      "Retrieving City number 329 : peniche\n",
      "Retrieving City number 330 : sola\n",
      "Retrieving City number 331 : faanui\n",
      "Retrieving City number 332 : imeni poliny osipenko\n",
      "Retrieving City number 333 : vila\n",
      "Retrieving City number 334 : flinders\n",
      "Retrieving City number 335 : atar\n",
      "Retrieving City number 336 : ahipara\n",
      "Retrieving City number 337 : massakory\n",
      "Retrieving City number 338 : weligama\n",
      "Retrieving City number 339 : vardo\n",
      "Retrieving City number 340 : bartica\n",
      "Retrieving City number 341 : narrabri\n",
      "Retrieving City number 342 : conakry\n",
      "Retrieving City number 343 : riyadh\n",
      "Retrieving City number 344 : laukaa\n",
      "City not found. Skipping...\n",
      "Retrieving City number 345 : marsa matruh\n",
      "Retrieving City number 346 : chekhov\n",
      "Retrieving City number 347 : namatanai\n",
      "Retrieving City number 348 : westport\n",
      "Retrieving City number 349 : vila franca do campo\n",
      "Retrieving City number 350 : namibe\n",
      "Retrieving City number 351 : yarada\n",
      "Retrieving City number 352 : margate\n",
      "Retrieving City number 353 : hobyo\n",
      "Retrieving City number 354 : carutapera\n",
      "Retrieving City number 355 : derzhavinsk\n",
      "Retrieving City number 356 : rudnik\n",
      "City not found. Skipping...\n",
      "City not found. Skipping...\n",
      "Retrieving City number 357 : san carlos de bariloche\n",
      "Retrieving City number 358 : la romana\n",
      "Retrieving City number 359 : bontang\n",
      "Retrieving City number 360 : cayeli\n",
      "Retrieving City number 361 : meulaboh\n",
      "Retrieving City number 362 : rawson\n",
      "Retrieving City number 363 : pauri\n",
      "Retrieving City number 364 : moyo\n",
      "Retrieving City number 365 : gilgit\n",
      "Retrieving City number 366 : tezu\n",
      "Retrieving City number 367 : tuatapere\n"
     ]
    },
    {
     "name": "stdout",
     "output_type": "stream",
     "text": [
      "Retrieving City number 368 : biak\n",
      "Retrieving City number 369 : yulara\n",
      "Retrieving City number 370 : keetmanshoop\n",
      "Retrieving City number 371 : port blair\n",
      "Retrieving City number 372 : dicabisagan\n",
      "Retrieving City number 373 : abha\n",
      "Retrieving City number 374 : killybegs\n",
      "Retrieving City number 375 : presidencia roque saenz pena\n",
      "Retrieving City number 376 : bata\n",
      "Retrieving City number 377 : stralsund\n",
      "Retrieving City number 378 : kudowa-zdroj\n",
      "Retrieving City number 379 : marsala\n",
      "Retrieving City number 380 : la ronge\n",
      "City not found. Skipping...\n",
      "Retrieving City number 381 : darnah\n",
      "Retrieving City number 382 : sinnar\n",
      "Retrieving City number 383 : saint pete beach\n",
      "Retrieving City number 384 : jidong\n",
      "Retrieving City number 385 : ust-omchug\n",
      "Retrieving City number 386 : korem\n",
      "Retrieving City number 387 : mudon\n",
      "Retrieving City number 388 : piacabucu\n",
      "City not found. Skipping...\n",
      "Retrieving City number 389 : ballina\n",
      "Retrieving City number 390 : anadyr\n",
      "Retrieving City number 391 : bodden town\n",
      "Retrieving City number 392 : harduaganj\n",
      "Retrieving City number 393 : sinop\n",
      "Retrieving City number 394 : buala\n",
      "Retrieving City number 395 : fort nelson\n",
      "Retrieving City number 396 : leningradskiy\n",
      "Retrieving City number 397 : shubarkuduk\n",
      "Retrieving City number 398 : hamilton\n",
      "Retrieving City number 399 : canmore\n",
      "Retrieving City number 400 : portlethen\n",
      "Retrieving City number 401 : pedasi\n",
      "City not found. Skipping...\n",
      "Retrieving City number 402 : nauchnyy gorodok\n",
      "Retrieving City number 403 : wheatley\n",
      "City not found. Skipping...\n",
      "Retrieving City number 404 : bundaberg\n",
      "Retrieving City number 405 : camiri\n",
      "Retrieving City number 406 : safonovo\n",
      "Retrieving City number 407 : gobabis\n",
      "Retrieving City number 408 : muzhi\n",
      "Retrieving City number 409 : roald\n",
      "Retrieving City number 410 : henties bay\n",
      "Retrieving City number 411 : tromso\n",
      "Retrieving City number 412 : katubao\n",
      "Retrieving City number 413 : mezen\n",
      "Retrieving City number 414 : lethem\n",
      "Retrieving City number 415 : maues\n",
      "Retrieving City number 416 : drayton valley\n",
      "Retrieving City number 417 : nador\n",
      "Retrieving City number 418 : cuiluan\n",
      "Retrieving City number 419 : kathu\n",
      "Retrieving City number 420 : okato\n",
      "Retrieving City number 421 : nicoya\n",
      "Retrieving City number 422 : san pedro\n",
      "Retrieving City number 423 : verkhoyansk\n",
      "Retrieving City number 424 : novobiryusinskiy\n",
      "Retrieving City number 425 : port hedland\n",
      "Retrieving City number 426 : kapiri mposhi\n",
      "Retrieving City number 427 : mount gambier\n",
      "Retrieving City number 428 : mundo nuevo\n",
      "Retrieving City number 429 : fairbanks\n",
      "Retrieving City number 430 : finschhafen\n",
      "Retrieving City number 431 : afyonkarahisar\n",
      "Retrieving City number 432 : luangwa\n",
      "Retrieving City number 433 : turinsk\n",
      "Retrieving City number 434 : victor harbor\n",
      "Retrieving City number 435 : manaus\n",
      "Retrieving City number 436 : kuruman\n",
      "Retrieving City number 437 : tiznit\n",
      "Retrieving City number 438 : salalah\n",
      "Retrieving City number 439 : senno\n",
      "Retrieving City number 440 : bahia de caraquez\n",
      "Retrieving City number 441 : tonantins\n",
      "Retrieving City number 442 : pringsewu\n",
      "City not found. Skipping...\n",
      "Retrieving City number 443 : marrakesh\n",
      "Retrieving City number 444 : predivinsk\n",
      "Retrieving City number 445 : fayaoue\n",
      "Retrieving City number 446 : kardla\n",
      "Retrieving City number 447 : avera\n",
      "City not found. Skipping...\n",
      "Retrieving City number 448 : sao felix do xingu\n",
      "Retrieving City number 449 : gatesville\n",
      "Retrieving City number 450 : porangatu\n",
      "Retrieving City number 451 : stawell\n",
      "Retrieving City number 452 : te anau\n",
      "Retrieving City number 453 : pisco\n",
      "Retrieving City number 454 : kosh-agach\n",
      "Retrieving City number 455 : jinxiang\n",
      "Retrieving City number 456 : honiara\n",
      "Retrieving City number 457 : sambava\n",
      "Retrieving City number 458 : lavrentiya\n",
      "Retrieving City number 459 : bubaque\n",
      "City not found. Skipping...\n",
      "Retrieving City number 460 : road town\n",
      "Retrieving City number 461 : turkan\n",
      "Retrieving City number 462 : vestmanna\n",
      "Retrieving City number 463 : maldonado\n",
      "Retrieving City number 464 : caravelas\n",
      "City not found. Skipping...\n",
      "Retrieving City number 465 : villazon\n",
      "Retrieving City number 466 : meadow lake\n",
      "Retrieving City number 467 : itarema\n",
      "Retrieving City number 468 : sao gabriel da cachoeira\n",
      "Retrieving City number 469 : izazi\n",
      "Retrieving City number 470 : poltavka\n",
      "Retrieving City number 471 : aswan\n",
      "Retrieving City number 472 : oktyabrskiy\n",
      "Retrieving City number 473 : ozernovskiy\n",
      "Retrieving City number 474 : ouesso\n",
      "Retrieving City number 475 : chimbote\n",
      "Retrieving City number 476 : ossora\n",
      "Retrieving City number 477 : poronaysk\n",
      "Retrieving City number 478 : okha\n",
      "City not found. Skipping...\n",
      "Retrieving City number 479 : kruisfontein\n",
      "Retrieving City number 480 : adre\n",
      "Retrieving City number 481 : khargone\n",
      "Retrieving City number 482 : prince rupert\n",
      "Retrieving City number 483 : venancio aires\n",
      "Retrieving City number 484 : chokwe\n",
      "Retrieving City number 485 : batagay-alyta\n",
      "Retrieving City number 486 : gaozhou\n",
      "Retrieving City number 487 : qasigiannguit\n",
      "Retrieving City number 488 : yeppoon\n",
      "Retrieving City number 489 : mildura\n",
      "Retrieving City number 490 : gushikawa\n",
      "Retrieving City number 491 : batticaloa\n",
      "Retrieving City number 492 : sisimiut\n",
      "Retrieving City number 493 : argos\n",
      "Retrieving City number 494 : yuzhno-kurilsk\n",
      "Retrieving City number 495 : hualmay\n",
      "Complete\n"
     ]
    }
   ],
   "source": [
    "# For each city name in cities list\n",
    "\n",
    "print('Finding cities')\n",
    "for index, city in enumerate(cities, start = 1):\n",
    "    try:\n",
    "        response = requests.get(qurl + city).json()\n",
    "        City.append(response[\"name\"])\n",
    "        cloudiness.append(response[\"clouds\"][\"all\"])\n",
    "        country.append(response[\"sys\"][\"country\"])\n",
    "        date.append(response[\"dt\"])\n",
    "        humidity.append(response[\"main\"][\"humidity\"])\n",
    "        lat.append(response[\"coord\"][\"lat\"])\n",
    "        lon.append(response[\"coord\"][\"lon\"])\n",
    "        maxTemp.append(response['main']['temp_max'])\n",
    "        windspeed.append(response[\"wind\"][\"speed\"])\n",
    "        if index > 49:\n",
    "            index = 0\n",
    "            counter = counter + 1\n",
    "    \n",
    "        else:\n",
    "            index = index + 1\n",
    "            \n",
    "        print(f\"Retrieving City number {counter} : {city}\") \n",
    "  \n",
    "    except(KeyError, IndexError):\n",
    "        print(\"City not found. Skipping...\")\n",
    "\n",
    "\n",
    "print(\"Complete\")\n"
   ]
  },
  {
   "cell_type": "markdown",
   "metadata": {},
   "source": [
    "### Convert Raw Data to DataFrame\n",
    "* Export the city data into a .csv.\n",
    "* Display the DataFrame"
   ]
  },
  {
   "cell_type": "code",
   "execution_count": 7,
   "metadata": {},
   "outputs": [
    {
     "data": {
      "text/html": [
       "<div>\n",
       "<style scoped>\n",
       "    .dataframe tbody tr th:only-of-type {\n",
       "        vertical-align: middle;\n",
       "    }\n",
       "\n",
       "    .dataframe tbody tr th {\n",
       "        vertical-align: top;\n",
       "    }\n",
       "\n",
       "    .dataframe thead th {\n",
       "        text-align: right;\n",
       "    }\n",
       "</style>\n",
       "<table border=\"1\" class=\"dataframe\">\n",
       "  <thead>\n",
       "    <tr style=\"text-align: right;\">\n",
       "      <th></th>\n",
       "      <th>City</th>\n",
       "      <th>Cloudiness</th>\n",
       "      <th>Country</th>\n",
       "      <th>Date</th>\n",
       "      <th>Humidity</th>\n",
       "      <th>Latitude</th>\n",
       "      <th>Longitude</th>\n",
       "      <th>Max Temp</th>\n",
       "      <th>Wind Speed</th>\n",
       "    </tr>\n",
       "  </thead>\n",
       "  <tbody>\n",
       "    <tr>\n",
       "      <th>0</th>\n",
       "      <td>Sibolga</td>\n",
       "      <td>25</td>\n",
       "      <td>ID</td>\n",
       "      <td>1627418786</td>\n",
       "      <td>91</td>\n",
       "      <td>1.7427</td>\n",
       "      <td>98.7792</td>\n",
       "      <td>76.17</td>\n",
       "      <td>2.59</td>\n",
       "    </tr>\n",
       "    <tr>\n",
       "      <th>1</th>\n",
       "      <td>Lebu</td>\n",
       "      <td>0</td>\n",
       "      <td>CL</td>\n",
       "      <td>1627418401</td>\n",
       "      <td>74</td>\n",
       "      <td>-37.6167</td>\n",
       "      <td>-73.6500</td>\n",
       "      <td>48.63</td>\n",
       "      <td>24.29</td>\n",
       "    </tr>\n",
       "    <tr>\n",
       "      <th>2</th>\n",
       "      <td>Nanortalik</td>\n",
       "      <td>57</td>\n",
       "      <td>GL</td>\n",
       "      <td>1627418410</td>\n",
       "      <td>75</td>\n",
       "      <td>60.1432</td>\n",
       "      <td>-45.2371</td>\n",
       "      <td>47.07</td>\n",
       "      <td>3.47</td>\n",
       "    </tr>\n",
       "    <tr>\n",
       "      <th>3</th>\n",
       "      <td>Saint-Philippe</td>\n",
       "      <td>48</td>\n",
       "      <td>RE</td>\n",
       "      <td>1627418341</td>\n",
       "      <td>82</td>\n",
       "      <td>-21.3585</td>\n",
       "      <td>55.7679</td>\n",
       "      <td>69.35</td>\n",
       "      <td>13.00</td>\n",
       "    </tr>\n",
       "    <tr>\n",
       "      <th>4</th>\n",
       "      <td>Bowen</td>\n",
       "      <td>63</td>\n",
       "      <td>AU</td>\n",
       "      <td>1627418926</td>\n",
       "      <td>83</td>\n",
       "      <td>-20.0167</td>\n",
       "      <td>148.2333</td>\n",
       "      <td>50.22</td>\n",
       "      <td>7.76</td>\n",
       "    </tr>\n",
       "  </tbody>\n",
       "</table>\n",
       "</div>"
      ],
      "text/plain": [
       "             City  Cloudiness Country        Date  Humidity  Latitude  \\\n",
       "0         Sibolga          25      ID  1627418786        91    1.7427   \n",
       "1            Lebu           0      CL  1627418401        74  -37.6167   \n",
       "2      Nanortalik          57      GL  1627418410        75   60.1432   \n",
       "3  Saint-Philippe          48      RE  1627418341        82  -21.3585   \n",
       "4           Bowen          63      AU  1627418926        83  -20.0167   \n",
       "\n",
       "   Longitude  Max Temp  Wind Speed  \n",
       "0    98.7792     76.17        2.59  \n",
       "1   -73.6500     48.63       24.29  \n",
       "2   -45.2371     47.07        3.47  \n",
       "3    55.7679     69.35       13.00  \n",
       "4   148.2333     50.22        7.76  "
      ]
     },
     "execution_count": 7,
     "metadata": {},
     "output_type": "execute_result"
    }
   ],
   "source": [
    "#DF then CSV\n",
    "weatherDF = pd.DataFrame({ \n",
    "                \"City\" : City,\n",
    "                \"Cloudiness\" : cloudiness,\n",
    "                \"Country\" : country,\n",
    "                \"Date\" : date,\n",
    "                \"Humidity\" : humidity,\n",
    "                \"Latitude\" : lat,\n",
    "                \"Longitude\" : lon,\n",
    "                \"Max Temp\" : maxTemp,\n",
    "                \"Wind Speed\" : windspeed})\n",
    "    \n",
    "weatherDF.head()"
   ]
  },
  {
   "cell_type": "code",
   "execution_count": 8,
   "metadata": {},
   "outputs": [],
   "source": [
    "weatherDF.to_csv(\"../output_data/cities.csv\")"
   ]
  },
  {
   "cell_type": "markdown",
   "metadata": {},
   "source": [
    "## Inspect the data and remove the cities where the humidity > 100%.\n",
    "----\n",
    "Skip this step if there are no cities that have humidity > 100%. "
   ]
  },
  {
   "cell_type": "code",
   "execution_count": 9,
   "metadata": {},
   "outputs": [
    {
     "data": {
      "text/html": [
       "<div>\n",
       "<style scoped>\n",
       "    .dataframe tbody tr th:only-of-type {\n",
       "        vertical-align: middle;\n",
       "    }\n",
       "\n",
       "    .dataframe tbody tr th {\n",
       "        vertical-align: top;\n",
       "    }\n",
       "\n",
       "    .dataframe thead th {\n",
       "        text-align: right;\n",
       "    }\n",
       "</style>\n",
       "<table border=\"1\" class=\"dataframe\">\n",
       "  <thead>\n",
       "    <tr style=\"text-align: right;\">\n",
       "      <th></th>\n",
       "      <th>City</th>\n",
       "      <th>Cloudiness</th>\n",
       "      <th>Country</th>\n",
       "      <th>Date</th>\n",
       "      <th>Humidity</th>\n",
       "      <th>Latitude</th>\n",
       "      <th>Longitude</th>\n",
       "      <th>Max Temp</th>\n",
       "      <th>Wind Speed</th>\n",
       "    </tr>\n",
       "  </thead>\n",
       "  <tbody>\n",
       "    <tr>\n",
       "      <th>21</th>\n",
       "      <td>Fortuna</td>\n",
       "      <td>90</td>\n",
       "      <td>US</td>\n",
       "      <td>1627418336</td>\n",
       "      <td>100</td>\n",
       "      <td>40.5982</td>\n",
       "      <td>-124.1573</td>\n",
       "      <td>83.19</td>\n",
       "      <td>0.00</td>\n",
       "    </tr>\n",
       "    <tr>\n",
       "      <th>22</th>\n",
       "      <td>Qaanaaq</td>\n",
       "      <td>100</td>\n",
       "      <td>GL</td>\n",
       "      <td>1627418827</td>\n",
       "      <td>100</td>\n",
       "      <td>77.4840</td>\n",
       "      <td>-69.3632</td>\n",
       "      <td>40.86</td>\n",
       "      <td>3.94</td>\n",
       "    </tr>\n",
       "    <tr>\n",
       "      <th>136</th>\n",
       "      <td>Krivodanovka</td>\n",
       "      <td>92</td>\n",
       "      <td>RU</td>\n",
       "      <td>1627418958</td>\n",
       "      <td>100</td>\n",
       "      <td>55.0881</td>\n",
       "      <td>82.6551</td>\n",
       "      <td>48.29</td>\n",
       "      <td>2.24</td>\n",
       "    </tr>\n",
       "    <tr>\n",
       "      <th>183</th>\n",
       "      <td>Nhulunbuy</td>\n",
       "      <td>40</td>\n",
       "      <td>AU</td>\n",
       "      <td>1627418970</td>\n",
       "      <td>100</td>\n",
       "      <td>-12.2333</td>\n",
       "      <td>136.7667</td>\n",
       "      <td>68.61</td>\n",
       "      <td>0.00</td>\n",
       "    </tr>\n",
       "    <tr>\n",
       "      <th>312</th>\n",
       "      <td>Dikson</td>\n",
       "      <td>100</td>\n",
       "      <td>RU</td>\n",
       "      <td>1627419014</td>\n",
       "      <td>100</td>\n",
       "      <td>73.5069</td>\n",
       "      <td>80.5464</td>\n",
       "      <td>40.69</td>\n",
       "      <td>15.93</td>\n",
       "    </tr>\n",
       "    <tr>\n",
       "      <th>368</th>\n",
       "      <td>Pontianak</td>\n",
       "      <td>75</td>\n",
       "      <td>ID</td>\n",
       "      <td>1627419034</td>\n",
       "      <td>100</td>\n",
       "      <td>-0.0333</td>\n",
       "      <td>109.3333</td>\n",
       "      <td>78.78</td>\n",
       "      <td>2.30</td>\n",
       "    </tr>\n",
       "    <tr>\n",
       "      <th>431</th>\n",
       "      <td>Anadyr</td>\n",
       "      <td>75</td>\n",
       "      <td>RU</td>\n",
       "      <td>1627419058</td>\n",
       "      <td>100</td>\n",
       "      <td>64.7500</td>\n",
       "      <td>177.4833</td>\n",
       "      <td>52.30</td>\n",
       "      <td>4.00</td>\n",
       "    </tr>\n",
       "    <tr>\n",
       "      <th>503</th>\n",
       "      <td>Vestmanna</td>\n",
       "      <td>90</td>\n",
       "      <td>FO</td>\n",
       "      <td>1627419088</td>\n",
       "      <td>100</td>\n",
       "      <td>62.1564</td>\n",
       "      <td>-7.1664</td>\n",
       "      <td>50.92</td>\n",
       "      <td>12.66</td>\n",
       "    </tr>\n",
       "    <tr>\n",
       "      <th>530</th>\n",
       "      <td>Mildura</td>\n",
       "      <td>90</td>\n",
       "      <td>AU</td>\n",
       "      <td>1627419098</td>\n",
       "      <td>100</td>\n",
       "      <td>-34.2000</td>\n",
       "      <td>142.1500</td>\n",
       "      <td>55.36</td>\n",
       "      <td>5.75</td>\n",
       "    </tr>\n",
       "  </tbody>\n",
       "</table>\n",
       "</div>"
      ],
      "text/plain": [
       "             City  Cloudiness Country        Date  Humidity  Latitude  \\\n",
       "21        Fortuna          90      US  1627418336       100   40.5982   \n",
       "22        Qaanaaq         100      GL  1627418827       100   77.4840   \n",
       "136  Krivodanovka          92      RU  1627418958       100   55.0881   \n",
       "183     Nhulunbuy          40      AU  1627418970       100  -12.2333   \n",
       "312        Dikson         100      RU  1627419014       100   73.5069   \n",
       "368     Pontianak          75      ID  1627419034       100   -0.0333   \n",
       "431        Anadyr          75      RU  1627419058       100   64.7500   \n",
       "503     Vestmanna          90      FO  1627419088       100   62.1564   \n",
       "530       Mildura          90      AU  1627419098       100  -34.2000   \n",
       "\n",
       "     Longitude  Max Temp  Wind Speed  \n",
       "21   -124.1573     83.19        0.00  \n",
       "22    -69.3632     40.86        3.94  \n",
       "136    82.6551     48.29        2.24  \n",
       "183   136.7667     68.61        0.00  \n",
       "312    80.5464     40.69       15.93  \n",
       "368   109.3333     78.78        2.30  \n",
       "431   177.4833     52.30        4.00  \n",
       "503    -7.1664     50.92       12.66  \n",
       "530   142.1500     55.36        5.75  "
      ]
     },
     "execution_count": 9,
     "metadata": {},
     "output_type": "execute_result"
    }
   ],
   "source": [
    "weatherDF[weatherDF['Humidity']>=100]\n",
    "#no rows have greater humidity than 100%, but it is possible"
   ]
  },
  {
   "cell_type": "code",
   "execution_count": 10,
   "metadata": {},
   "outputs": [],
   "source": [
    "#  Get the indices of cities that have humidity over 100%.\n",
    "# No rows have more than 100% humidity-see above"
   ]
  },
  {
   "cell_type": "code",
   "execution_count": 11,
   "metadata": {},
   "outputs": [],
   "source": [
    "# Make a new DataFrame equal to the city data to drop all humidity outliers by index.\n",
    "# Passing \"inplace=False\" will make a copy of the city_data DataFrame, which we call \"clean_city_data\".\n",
    "#see above\n"
   ]
  },
  {
   "cell_type": "code",
   "execution_count": null,
   "metadata": {},
   "outputs": [],
   "source": [
    "\n"
   ]
  },
  {
   "cell_type": "markdown",
   "metadata": {},
   "source": [
    "## Plotting the Data\n",
    "* Use proper labeling of the plots using plot titles (including date of analysis) and axes labels.\n",
    "* Save the plotted figures as .pngs."
   ]
  },
  {
   "cell_type": "markdown",
   "metadata": {},
   "source": [
    "## Latitude vs. Temperature Plot"
   ]
  },
  {
   "cell_type": "code",
   "execution_count": 12,
   "metadata": {
    "scrolled": true
   },
   "outputs": [
    {
     "data": {
      "image/png": "[encoded data removed]",
      "text/plain": [
       "<Figure size 432x288 with 1 Axes>"
      ]
     },
     "metadata": {
      "needs_background": "light"
     },
     "output_type": "display_data"
    }
   ],
   "source": [
    "Lat = weatherDF['Latitude']\n",
    "Temp = weatherDF['Max Temp']\n",
    "\n",
    "plt.scatter(Lat,Temp)\n",
    "plt.title('City Lat compared to City Max Temp-7.27.21')\n",
    "plt.xlabel('Latitude')\n",
    "plt.ylabel('Max Temperature')\n",
    "plt.savefig('../Images/ScatterPlotTempLat.png')\n",
    "plt.show()"
   ]
  },
  {
   "cell_type": "markdown",
   "metadata": {},
   "source": [
    "## Latitude vs. Humidity Plot"
   ]
  },
  {
   "cell_type": "code",
   "execution_count": 13,
   "metadata": {},
   "outputs": [
    {
     "data": {
      "image/png": "[encoded data removed]",
      "text/plain": [
       "<Figure size 432x288 with 1 Axes>"
      ]
     },
     "metadata": {
      "needs_background": "light"
     },
     "output_type": "display_data"
    }
   ],
   "source": [
    "Lat = weatherDF['Latitude']\n",
    "Hum = weatherDF['Humidity']\n",
    "\n",
    "plt.scatter(Lat,Hum)\n",
    "plt.title('City Lat compared to City Humidity7.27.21')\n",
    "plt.xlabel('Latitude')\n",
    "plt.ylabel('Humidity')\n",
    "plt.savefig('../Images/ScatterPlotHumLat.png')\n",
    "plt.show()"
   ]
  },
  {
   "cell_type": "markdown",
   "metadata": {},
   "source": [
    "## Latitude vs. Cloudiness Plot"
   ]
  },
  {
   "cell_type": "code",
   "execution_count": 14,
   "metadata": {},
   "outputs": [
    {
     "data": {
      "image/png": "[encoded data removed]",
      "text/plain": [
       "<Figure size 432x288 with 1 Axes>"
      ]
     },
     "metadata": {
      "needs_background": "light"
     },
     "output_type": "display_data"
    }
   ],
   "source": [
    "Lat = weatherDF['Latitude']\n",
    "Cld = weatherDF['Cloudiness']\n",
    "\n",
    "plt.scatter(Lat,Cld)\n",
    "plt.title('City Latitude compared to City Cloudiness-7.27.21')\n",
    "plt.xlabel('Latitude')\n",
    "plt.ylabel('Cloud Cover')\n",
    "plt.savefig('../Images/ScatterPlotCldLat.png')\n",
    "plt.show()"
   ]
  },
  {
   "cell_type": "markdown",
   "metadata": {},
   "source": [
    "## Latitude vs. Wind Speed Plot"
   ]
  },
  {
   "cell_type": "code",
   "execution_count": 15,
   "metadata": {},
   "outputs": [
    {
     "data": {
      "image/png": "[encoded data removed]",
      "text/plain": [
       "<Figure size 432x288 with 1 Axes>"
      ]
     },
     "metadata": {
      "needs_background": "light"
     },
     "output_type": "display_data"
    }
   ],
   "source": [
    "Lat = weatherDF['Latitude']\n",
    "Wind = weatherDF['Wind Speed']\n",
    "\n",
    "plt.scatter(Lat,Wind)\n",
    "plt.title('City Lat compared to City Wind-7.27.21')\n",
    "plt.xlabel('Latitude')\n",
    "plt.ylabel('Wind Speed')\n",
    "plt.savefig('../Images/ScatterPlotWindLat.png')\n",
    "plt.show()"
   ]
  },
  {
   "cell_type": "markdown",
   "metadata": {},
   "source": [
    "## Linear Regression"
   ]
  },
  {
   "cell_type": "code",
   "execution_count": 16,
   "metadata": {},
   "outputs": [],
   "source": [
    "# This makes two dataframes, one for at or over the equator and one for lower, then there is the function for linear regression\n",
    "NHemi = weatherDF[weatherDF['Latitude']>=0]\n",
    "SHemi = weatherDF[weatherDF['Latitude']<0]\n",
    "def plot_linear_regression(x, y, title, text_coordinates):\n",
    "    (slope, intercept, rvalue, pvalue, stderr) = linregress(x, y)\n",
    "    regress_values = slope * x + intercept\n",
    "    line_eq = \"y = \" + str(round(slope,2)) + \"x + \" + str(round(intercept,2))\n",
    "    \n",
    "    plt.scatter(x,y)\n",
    "    plt.plot(x,regress_values,\"r-\")\n",
    "    plt.annotate(line_eq,text_coordinates,fontsize=12,color=\"red\")\n",
    "    plt.xlabel(\"Latitude\")\n",
    "    plt.ylabel(title)\n",
    "    print(f\"The r-squared is: {rvalue}\")\n",
    "    plt.show()"
   ]
  },
  {
   "cell_type": "markdown",
   "metadata": {},
   "source": [
    "####  Northern Hemisphere - Max Temp vs. Latitude Linear Regression"
   ]
  },
  {
   "cell_type": "code",
   "execution_count": 17,
   "metadata": {},
   "outputs": [
    {
     "name": "stdout",
     "output_type": "stream",
     "text": [
      "The r-squared is: -0.6865013400092386\n"
     ]
    },
    {
     "data": {
      "image/png": "[encoded data removed]",
      "text/plain": [
       "<Figure size 432x288 with 1 Axes>"
      ]
     },
     "metadata": {
      "needs_background": "light"
     },
     "output_type": "display_data"
    },
    {
     "data": {
      "text/plain": [
       "<Figure size 432x288 with 0 Axes>"
      ]
     },
     "metadata": {},
     "output_type": "display_data"
    }
   ],
   "source": [
    "#This compares the max temp and latitutde of cities in the northern hemisphere, \n",
    "#it shows a negative correlation meaning that as the latitude increases the max tempurature decreases, the strength of correlation\n",
    "#is fairly strong\n",
    "x = NHemi[\"Latitude\"]\n",
    "y = NHemi[\"Max Temp\"]\n",
    "plot_linear_regression(x,y,'Max Temp',(6,30))\n",
    "\n",
    "plt.savefig('../Images/NHTempLat')"
   ]
  },
  {
   "cell_type": "markdown",
   "metadata": {},
   "source": [
    "####  Southern Hemisphere - Max Temp vs. Latitude Linear Regression"
   ]
  },
  {
   "cell_type": "code",
   "execution_count": 18,
   "metadata": {},
   "outputs": [
    {
     "name": "stdout",
     "output_type": "stream",
     "text": [
      "The r-squared is: 0.7947816573331249\n"
     ]
    },
    {
     "data": {
      "image/png": "[encoded data removed]",
      "text/plain": [
       "<Figure size 432x288 with 1 Axes>"
      ]
     },
     "metadata": {
      "needs_background": "light"
     },
     "output_type": "display_data"
    },
    {
     "data": {
      "text/plain": [
       "<Figure size 432x288 with 0 Axes>"
      ]
     },
     "metadata": {},
     "output_type": "display_data"
    }
   ],
   "source": [
    "#This compares the max temp and latitutde of cities in the southern hemisphere, \n",
    "#it shows a positive correlation meaning that as the latitude increases towards 0 the max tempurature also increases.  \n",
    "#The strength of\n",
    "#correlation is fairly strong, stronger than the negative correlatoin shown in the above plot\n",
    "x = SHemi[\"Latitude\"]\n",
    "y = SHemi[\"Max Temp\"]\n",
    "plot_linear_regression(x,y,'Max Temp',(6,30))\n",
    "\n",
    "plt.savefig('../Images/SHTempLat')"
   ]
  },
  {
   "cell_type": "markdown",
   "metadata": {},
   "source": [
    "####  Northern Hemisphere - Humidity (%) vs. Latitude Linear Regression"
   ]
  },
  {
   "cell_type": "code",
   "execution_count": 19,
   "metadata": {},
   "outputs": [
    {
     "name": "stdout",
     "output_type": "stream",
     "text": [
      "The r-squared is: 0.0514085625959639\n"
     ]
    },
    {
     "data": {
      "image/png": "[encoded data removed]",
      "text/plain": [
       "<Figure size 432x288 with 1 Axes>"
      ]
     },
     "metadata": {
      "needs_background": "light"
     },
     "output_type": "display_data"
    },
    {
     "data": {
      "text/plain": [
       "<Figure size 432x288 with 0 Axes>"
      ]
     },
     "metadata": {},
     "output_type": "display_data"
    }
   ],
   "source": [
    "#This plot shows minimal correlation between humidity and latitude\n",
    "x = NHemi[\"Latitude\"]\n",
    "y = NHemi[\"Humidity\"]\n",
    "plot_linear_regression(x,y,'Humidity',(6,30))\n",
    "\n",
    "plt.savefig('../Images/NHHumLat')"
   ]
  },
  {
   "cell_type": "markdown",
   "metadata": {},
   "source": [
    "####  Southern Hemisphere - Humidity (%) vs. Latitude Linear Regression"
   ]
  },
  {
   "cell_type": "code",
   "execution_count": 20,
   "metadata": {},
   "outputs": [
    {
     "name": "stdout",
     "output_type": "stream",
     "text": [
      "The r-squared is: 0.017609132814036466\n"
     ]
    },
    {
     "data": {
      "image/png": "[encoded data removed]",
      "text/plain": [
       "<Figure size 432x288 with 1 Axes>"
      ]
     },
     "metadata": {
      "needs_background": "light"
     },
     "output_type": "display_data"
    },
    {
     "data": {
      "text/plain": [
       "<Figure size 432x288 with 0 Axes>"
      ]
     },
     "metadata": {},
     "output_type": "display_data"
    }
   ],
   "source": [
    "#This plot shows minimal, almost 0, correlation between humidity and latitude\n",
    "x = SHemi[\"Latitude\"]\n",
    "y = SHemi[\"Humidity\"]\n",
    "plot_linear_regression(x,y,'Humidity',(6,30))\n",
    "\n",
    "plt.savefig('../Images/SHHumLat')"
   ]
  },
  {
   "cell_type": "markdown",
   "metadata": {},
   "source": [
    "####  Northern Hemisphere - Cloudiness (%) vs. Latitude Linear Regression"
   ]
  },
  {
   "cell_type": "code",
   "execution_count": 21,
   "metadata": {},
   "outputs": [
    {
     "name": "stdout",
     "output_type": "stream",
     "text": [
      "The r-squared is: -0.058347480725072405\n"
     ]
    },
    {
     "data": {
      "image/png": "[encoded data removed]",
      "text/plain": [
       "<Figure size 432x288 with 1 Axes>"
      ]
     },
     "metadata": {
      "needs_background": "light"
     },
     "output_type": "display_data"
    },
    {
     "data": {
      "text/plain": [
       "<Figure size 432x288 with 0 Axes>"
      ]
     },
     "metadata": {},
     "output_type": "display_data"
    }
   ],
   "source": [
    "#This plot shows minimal negative correlation between cloudiness and latitude\n",
    "x = NHemi[\"Latitude\"]\n",
    "y = NHemi[\"Cloudiness\"]\n",
    "plot_linear_regression(x,y,'Cloudiness',(6,30))\n",
    "\n",
    "plt.savefig('../Images/NHCldLat')"
   ]
  },
  {
   "cell_type": "markdown",
   "metadata": {},
   "source": [
    "####  Southern Hemisphere - Cloudiness (%) vs. Latitude Linear Regression"
   ]
  },
  {
   "cell_type": "code",
   "execution_count": 22,
   "metadata": {},
   "outputs": [
    {
     "name": "stdout",
     "output_type": "stream",
     "text": [
      "The r-squared is: 0.028243098270680687\n"
     ]
    },
    {
     "data": {
      "image/png": "[encoded data removed]",
      "text/plain": [
       "<Figure size 432x288 with 1 Axes>"
      ]
     },
     "metadata": {
      "needs_background": "light"
     },
     "output_type": "display_data"
    },
    {
     "data": {
      "text/plain": [
       "<Figure size 432x288 with 0 Axes>"
      ]
     },
     "metadata": {},
     "output_type": "display_data"
    }
   ],
   "source": [
    "#This plot shows minimal correlation between cloudiness and latitude\n",
    "x = SHemi[\"Latitude\"]\n",
    "y = SHemi[\"Cloudiness\"]\n",
    "plot_linear_regression(x,y,'Cloudiness',(6,30))\n",
    "\n",
    "plt.savefig('../Images/SHCldLat')"
   ]
  },
  {
   "cell_type": "markdown",
   "metadata": {},
   "source": [
    "####  Northern Hemisphere - Wind Speed (mph) vs. Latitude Linear Regression"
   ]
  },
  {
   "cell_type": "code",
   "execution_count": 23,
   "metadata": {},
   "outputs": [
    {
     "name": "stdout",
     "output_type": "stream",
     "text": [
      "The r-squared is: -0.09281528693998022\n"
     ]
    },
    {
     "data": {
      "image/png": "[encoded data removed]",
      "text/plain": [
       "<Figure size 432x288 with 1 Axes>"
      ]
     },
     "metadata": {
      "needs_background": "light"
     },
     "output_type": "display_data"
    },
    {
     "data": {
      "text/plain": [
       "<Figure size 432x288 with 0 Axes>"
      ]
     },
     "metadata": {},
     "output_type": "display_data"
    }
   ],
   "source": [
    "#This plot shows minimal negative correlation between wind speed and latitude\n",
    "x = NHemi[\"Latitude\"]\n",
    "y = NHemi[\"Wind Speed\"]\n",
    "plot_linear_regression(x,y,'Wind Speed',(6,30))\n",
    "\n",
    "plt.savefig('../Images/NHWindLat')"
   ]
  },
  {
   "cell_type": "markdown",
   "metadata": {},
   "source": [
    "####  Southern Hemisphere - Wind Speed (mph) vs. Latitude Linear Regression"
   ]
  },
  {
   "cell_type": "code",
   "execution_count": 24,
   "metadata": {},
   "outputs": [
    {
     "name": "stdout",
     "output_type": "stream",
     "text": [
      "The r-squared is: -0.18958631532764916\n"
     ]
    },
    {
     "data": {
      "image/png": "[encoded data removed]",
      "text/plain": [
       "<Figure size 432x288 with 1 Axes>"
      ]
     },
     "metadata": {
      "needs_background": "light"
     },
     "output_type": "display_data"
    },
    {
     "data": {
      "text/plain": [
       "<Figure size 432x288 with 0 Axes>"
      ]
     },
     "metadata": {},
     "output_type": "display_data"
    }
   ],
   "source": [
    "#This plot shows minimal negative correlation between windspeed and latitude\n",
    "x = SHemi[\"Latitude\"]\n",
    "y = SHemi[\"Wind Speed\"]\n",
    "plot_linear_regression(x,y,'Wind Speed',(6,30))\n",
    "\n",
    "plt.savefig('../Images/SHWindLat')"
   ]
  },
  {
   "cell_type": "code",
   "execution_count": null,
   "metadata": {},
   "outputs": [],
   "source": []
  }
 ],
 "metadata": {
  "anaconda-cloud": {},
  "kernel_info": {
   "name": "python3"
  },
  "kernelspec": {
   "display_name": "Python 3",
   "language": "python",
   "name": "python3"
  },
  "language_info": {
   "codemirror_mode": {
    "name": "ipython",
    "version": 3
   },
   "file_extension": ".py",
   "mimetype": "text/x-python",
   "name": "python",
   "nbconvert_exporter": "python",
   "pygments_lexer": "ipython3",
   "version": "3.8.8"
  },
  "latex_envs": {
   "LaTeX_envs_menu_present": true,
   "autoclose": false,
   "autocomplete": true,
   "bibliofile": "biblio.bib",
   "cite_by": "apalike",
   "current_citInitial": 1,
   "eqLabelWithNumbers": true,
   "eqNumInitial": 1,
   "hotkeys": {
    "equation": "Ctrl-E",
    "itemize": "Ctrl-I"
   },
   "labels_anchors": false,
   "latex_user_defs": false,
   "report_style_numbering": false,
   "user_envs_cfg": false
  },
  "nteract": {
   "version": "0.12.3"
  }
 },
 "nbformat": 4,
 "nbformat_minor": 4
}
