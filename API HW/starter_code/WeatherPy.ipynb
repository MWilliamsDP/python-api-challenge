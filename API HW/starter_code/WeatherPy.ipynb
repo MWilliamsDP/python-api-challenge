{
 "cells": [
  {
   "cell_type": "markdown",
   "metadata": {},
   "source": [
    "# WeatherPy\n",
    "----\n",
    "\n",
    "#### Note\n",
    "* Instructions have been included for each segment. You do not have to follow them exactly, but they are included to help you think through the steps."
   ]
  },
  {
   "cell_type": "markdown",
   "metadata": {},
   "source": [
    "# Three observable trends\n",
    "Based on the information provided here, it is clear that there is a direct correlation with temperature and distance from the equator.  AS the latitude increases from 0 the temperatures of the locations as a whole decrease, while as the latitude decreases from 0, the temperatures go down. There is a strong positive correlation moving south to north towards the equator and a stong negative correlation moving from the equator north.\n",
    "There does not appear to be any other strong correlations in the data observed here.  "
   ]
  },
  {
   "cell_type": "code",
   "execution_count": 1,
   "metadata": {
    "scrolled": true
   },
   "outputs": [
    {
     "name": "stdout",
     "output_type": "stream",
     "text": [
      "Requirement already satisfied: citipy in c:\\users\\mw\\anaconda3\\lib\\site-packages (0.0.5)\n",
      "Requirement already satisfied: kdtree>=0.12 in c:\\users\\mw\\anaconda3\\lib\\site-packages (from citipy) (0.16)\n"
     ]
    }
   ],
   "source": [
    "!pip install citipy\n",
    "# Dependencies and Setup\n",
    "import matplotlib.pyplot as plt\n",
    "import pandas as pd\n",
    "import numpy as np\n",
    "import requests\n",
    "import time\n",
    "from scipy.stats import linregress\n",
    "\n",
    "# Import API key\n",
    "#from config import api_key\n",
    "from api_keys import weather_api_key\n",
    "from pprint import pprint\n",
    "# Incorporated citipy to determine city based on latitude and longitude\n",
    "from citipy import citipy\n",
    "\n",
    "# Output File (CSV)\n",
    "output_data_file = \"output_data/cities.csv\"\n",
    "\n",
    "# Range of latitudes and longitudes\n",
    "lat_range = (-90, 90)\n",
    "lng_range = (-180, 180)\n"
   ]
  },
  {
   "cell_type": "code",
   "execution_count": 2,
   "metadata": {},
   "outputs": [],
   "source": [
    "key=weather_api_key\n"
   ]
  },
  {
   "cell_type": "markdown",
   "metadata": {},
   "source": [
    "## Generate Cities List"
   ]
  },
  {
   "cell_type": "code",
   "execution_count": 27,
   "metadata": {},
   "outputs": [
    {
     "name": "stdout",
     "output_type": "stream",
     "text": [
      "606\n"
     ]
    }
   ],
   "source": [
    "# List for holding lat_lngs and cities\n",
    "lat_lngs = []\n",
    "cities = []\n",
    "\n",
    "# Create a set of random lat and lng combinations\n",
    "lats = np.random.uniform(lat_range[0], lat_range[1], size=1500)\n",
    "lngs = np.random.uniform(lng_range[0], lng_range[1], size=1500)\n",
    "lat_lngs = zip(lats, lngs)\n",
    "\n",
    "# Identify nearest city for each lat, lng combination\n",
    "for lat_lng in lat_lngs:\n",
    "    city = citipy.nearest_city(lat_lng[0], lat_lng[1]).city_name\n",
    "    \n",
    "    # If the city is unique, then add it to a our cities list\n",
    "    if city not in cities:\n",
    "        cities.append(city)\n",
    "\n",
    "# Print the city count to confirm sufficient count\n",
    "print(len(cities))\n"
   ]
  },
  {
   "cell_type": "code",
   "execution_count": 4,
   "metadata": {},
   "outputs": [],
   "source": [
    "#lists for different descriptors\n",
    "City = []\n",
    "cloudiness = []\n",
    "country = []\n",
    "date = []\n",
    "humidity = []\n",
    "lat = []\n",
    "lon = []\n",
    "maxTemp = []\n",
    "windspeed = []\n",
    "index = 0\n",
    "counter = 1\n",
    "\n",
    "\n"
   ]
  },
  {
   "cell_type": "markdown",
   "metadata": {},
   "source": [
    "### Perform API Calls\n",
    "* Perform a weather check on each city using a series of successive API calls.\n",
    "* Include a print log of each city as it's being processed (with the city number and city name).\n"
   ]
  },
  {
   "cell_type": "code",
   "execution_count": 5,
   "metadata": {
    "scrolled": true
   },
   "outputs": [
    {
     "name": "stdout",
     "output_type": "stream",
     "text": [
      "http://api.openweathermap.org/data/2.5/weather?appid=2dc0ee36740f5fce1c2181013faae54b&units=imperial&q=\n"
     ]
    }
   ],
   "source": [
    "url=\"http://api.openweathermap.org/data/2.5/weather?\"\n",
    "units='imperial'\n",
    "qurl = f\"{url}appid={key}&units={units}&q=\"\n",
    "#qurl=url + \"appid=\"+key+\"&q=\"\n",
    "print(qurl)"
   ]
  },
  {
   "cell_type": "code",
   "execution_count": 6,
   "metadata": {
    "scrolled": true
   },
   "outputs": [
    {
     "name": "stdout",
     "output_type": "stream",
     "text": [
      "Finding cities\n",
      "Retrieving City number 2 : albany\n",
      "Retrieving City number 3 : bambous virieux\n",
      "Retrieving City number 4 : nikolskoye\n",
      "Retrieving City number 5 : chuy\n",
      "Retrieving City number 6 : faanui\n",
      "Retrieving City number 7 : ribeira grande\n",
      "Retrieving City number 8 : cayenne\n",
      "Retrieving City number 9 : kapaa\n",
      "Retrieving City number 10 : harsin\n",
      "Retrieving City number 11 : honiara\n",
      "Retrieving City number 12 : ganzhou\n",
      "City not found. Skipping...\n",
      "Retrieving City number 13 : sakakah\n",
      "Retrieving City number 14 : puerto ayora\n",
      "Retrieving City number 15 : yellowknife\n",
      "City not found. Skipping...\n",
      "City not found. Skipping...\n",
      "Retrieving City number 16 : vaini\n",
      "Retrieving City number 17 : klaksvik\n",
      "City not found. Skipping...\n",
      "Retrieving City number 18 : carnarvon\n",
      "Retrieving City number 19 : balikpapan\n",
      "Retrieving City number 20 : vestmanna\n",
      "Retrieving City number 21 : lengerich\n",
      "Retrieving City number 22 : richards bay\n",
      "Retrieving City number 23 : jamestown\n",
      "Retrieving City number 24 : ushuaia\n",
      "Retrieving City number 25 : bozdar\n",
      "Retrieving City number 26 : mataura\n",
      "Retrieving City number 27 : arraial do cabo\n",
      "Retrieving City number 28 : auki\n",
      "Retrieving City number 29 : port moresby\n",
      "Retrieving City number 30 : naron\n",
      "Retrieving City number 31 : georgetown\n",
      "Retrieving City number 32 : marl\n",
      "Retrieving City number 33 : neiafu\n",
      "Retrieving City number 34 : cabo san lucas\n",
      "City not found. Skipping...\n",
      "Retrieving City number 35 : rikitea\n",
      "Retrieving City number 36 : punta arenas\n",
      "Retrieving City number 37 : broome\n",
      "Retrieving City number 38 : bac lieu\n",
      "Retrieving City number 39 : port alfred\n",
      "Retrieving City number 40 : coahuayana\n",
      "Retrieving City number 41 : torbay\n",
      "Retrieving City number 42 : cape town\n",
      "City not found. Skipping...\n",
      "City not found. Skipping...\n",
      "Retrieving City number 43 : busselton\n",
      "City not found. Skipping...\n",
      "Retrieving City number 44 : vazante\n",
      "Retrieving City number 45 : chabahar\n",
      "Retrieving City number 46 : eydhafushi\n",
      "Retrieving City number 47 : cherskiy\n",
      "Retrieving City number 48 : bongor\n",
      "Retrieving City number 49 : kinablangan\n",
      "Retrieving City number 50 : bredasdorp\n",
      "Retrieving City number 51 : tura\n",
      "Retrieving City number 52 : souillac\n",
      "Retrieving City number 53 : angren\n",
      "Retrieving City number 54 : ilulissat\n",
      "Retrieving City number 55 : marsa matruh\n",
      "Retrieving City number 56 : mar del plata\n",
      "Retrieving City number 57 : batken\n",
      "Retrieving City number 58 : hailar\n",
      "City not found. Skipping...\n",
      "City not found. Skipping...\n",
      "Retrieving City number 59 : qaanaaq\n",
      "Retrieving City number 60 : osoyoos\n",
      "Retrieving City number 61 : leningradskiy\n",
      "Retrieving City number 62 : sol-iletsk\n",
      "Retrieving City number 63 : hobart\n",
      "Retrieving City number 64 : kodiak\n",
      "Retrieving City number 65 : maromitsa\n",
      "Retrieving City number 66 : chapada dos guimaraes\n",
      "Retrieving City number 67 : sao paulo de olivenca\n",
      "Retrieving City number 68 : saldanha\n",
      "Retrieving City number 69 : nelidovo\n",
      "Retrieving City number 70 : cidreira\n",
      "Retrieving City number 71 : butaritari\n",
      "Retrieving City number 72 : avarua\n",
      "City not found. Skipping...\n",
      "Retrieving City number 73 : portoferraio\n",
      "City not found. Skipping...\n",
      "Retrieving City number 74 : san gabriel\n",
      "Retrieving City number 75 : la reforma\n",
      "Retrieving City number 76 : upernavik\n",
      "Retrieving City number 77 : pevek\n",
      "Retrieving City number 78 : hilo\n",
      "Retrieving City number 79 : puerto castilla\n",
      "Retrieving City number 80 : grand gaube\n",
      "Retrieving City number 81 : dzerzhinskoye\n",
      "Retrieving City number 82 : castro\n",
      "Retrieving City number 83 : tiksi\n",
      "Retrieving City number 84 : suntar\n",
      "Retrieving City number 85 : lisala\n",
      "Retrieving City number 86 : tasiilaq\n",
      "Retrieving City number 87 : mayo\n",
      "Retrieving City number 88 : ancud\n",
      "City not found. Skipping...\n",
      "Retrieving City number 89 : puerto baquerizo moreno\n",
      "Retrieving City number 90 : wattegama\n",
      "Retrieving City number 91 : provideniya\n",
      "Retrieving City number 92 : saskylakh\n",
      "Retrieving City number 93 : udachnyy\n",
      "Retrieving City number 94 : bayan\n",
      "Retrieving City number 95 : port lincoln\n",
      "Retrieving City number 96 : bluff\n",
      "Retrieving City number 97 : bandarbeyla\n",
      "Retrieving City number 98 : atuona\n",
      "Retrieving City number 99 : constitucion\n",
      "City not found. Skipping...\n",
      "Retrieving City number 100 : hermanus\n",
      "Retrieving City number 101 : kahului\n",
      "Retrieving City number 102 : bethel\n",
      "Retrieving City number 103 : guilin\n",
      "Retrieving City number 104 : amahai\n",
      "Retrieving City number 105 : hamilton\n",
      "Retrieving City number 106 : pisco\n",
      "Retrieving City number 107 : tobane\n",
      "Retrieving City number 108 : rawah\n",
      "Retrieving City number 109 : cortez\n",
      "Retrieving City number 110 : tuatapere\n",
      "City not found. Skipping...\n",
      "Retrieving City number 111 : dharchula\n",
      "Retrieving City number 112 : east london\n",
      "Retrieving City number 113 : bavly\n",
      "Retrieving City number 114 : sola\n",
      "Retrieving City number 115 : rio pardo\n",
      "Retrieving City number 116 : longyearbyen\n",
      "Retrieving City number 117 : belmonte\n",
      "Retrieving City number 118 : ust-tsilma\n",
      "Retrieving City number 119 : severo-kurilsk\n",
      "Retrieving City number 120 : menongue\n",
      "Retrieving City number 121 : bambanglipuro\n",
      "Retrieving City number 122 : barrow\n",
      "Retrieving City number 123 : swinoujscie\n",
      "City not found. Skipping...\n",
      "Retrieving City number 124 : broken hill\n",
      "Retrieving City number 125 : caravelas\n",
      "Retrieving City number 126 : coquimbo\n",
      "Retrieving City number 127 : reisterstown\n",
      "Retrieving City number 128 : srednekolymsk\n",
      "Retrieving City number 129 : new norfolk\n",
      "Retrieving City number 130 : thompson\n",
      "Retrieving City number 131 : carmelo\n",
      "Retrieving City number 132 : santa cruz del norte\n",
      "Retrieving City number 133 : omsukchan\n",
      "Retrieving City number 134 : kavieng\n",
      "Retrieving City number 135 : seoul\n",
      "Retrieving City number 136 : port blair\n",
      "Retrieving City number 137 : qui nhon\n",
      "Retrieving City number 138 : sapouy\n",
      "Retrieving City number 139 : saint pete beach\n",
      "Retrieving City number 140 : kudahuvadhoo\n",
      "Retrieving City number 141 : ngunguru\n",
      "Retrieving City number 142 : airai\n",
      "Retrieving City number 143 : batagay\n",
      "Retrieving City number 144 : cabatuan\n",
      "Retrieving City number 145 : mount pleasant\n",
      "Retrieving City number 146 : roma\n",
      "Retrieving City number 147 : saint-louis\n",
      "Retrieving City number 148 : tuktoyaktuk\n",
      "City not found. Skipping...\n",
      "Retrieving City number 149 : namie\n",
      "Retrieving City number 150 : newport\n",
      "Retrieving City number 151 : maragogi\n",
      "Retrieving City number 152 : swan hill\n",
      "Retrieving City number 153 : lazaro cardenas\n",
      "Retrieving City number 154 : dikson\n",
      "Retrieving City number 155 : te anau\n",
      "Retrieving City number 156 : hithadhoo\n",
      "Retrieving City number 157 : kiama\n",
      "Retrieving City number 158 : medicine hat\n",
      "Retrieving City number 159 : ratnagiri\n",
      "Retrieving City number 160 : saint-philippe\n",
      "Retrieving City number 161 : lagunas\n",
      "Retrieving City number 162 : deputatskiy\n",
      "Retrieving City number 163 : nouadhibou\n",
      "Retrieving City number 164 : norrkoping\n",
      "Retrieving City number 165 : petropavlovsk-kamchatskiy\n",
      "Retrieving City number 166 : kaeo\n",
      "City not found. Skipping...\n",
      "Retrieving City number 167 : bucerias\n",
      "Retrieving City number 168 : pafos\n",
      "Retrieving City number 169 : mount gambier\n",
      "Retrieving City number 170 : vila\n",
      "Retrieving City number 171 : haines junction\n",
      "Retrieving City number 172 : khatanga\n",
      "Retrieving City number 173 : viedma\n",
      "Retrieving City number 174 : ionia\n",
      "City not found. Skipping...\n",
      "Retrieving City number 175 : coolum beach\n",
      "City not found. Skipping...\n",
      "Retrieving City number 176 : shenzhen\n",
      "Retrieving City number 177 : mezen\n",
      "Retrieving City number 178 : sao gabriel da cachoeira\n",
      "Retrieving City number 179 : chkalovskoye\n",
      "Retrieving City number 180 : poum\n",
      "Retrieving City number 181 : lagoa\n",
      "Retrieving City number 182 : aykhal\n",
      "City not found. Skipping...\n",
      "Retrieving City number 183 : hay river\n",
      "Retrieving City number 184 : san patricio\n",
      "Retrieving City number 185 : khani\n",
      "City not found. Skipping...\n",
      "City not found. Skipping...\n",
      "Retrieving City number 186 : alofi\n",
      "Retrieving City number 187 : jamalpur\n",
      "Retrieving City number 188 : nusaybin\n",
      "Retrieving City number 189 : saint george\n",
      "Retrieving City number 190 : araouane\n",
      "Retrieving City number 191 : port hedland\n",
      "City not found. Skipping...\n",
      "Retrieving City number 192 : katsuura\n",
      "Retrieving City number 193 : luba\n",
      "Retrieving City number 194 : tilichiki\n",
      "Retrieving City number 195 : pundaguitan\n",
      "Retrieving City number 196 : saint-joseph\n",
      "City not found. Skipping...\n",
      "Retrieving City number 197 : talcahuano\n",
      "Retrieving City number 198 : pacific grove\n"
     ]
    },
    {
     "name": "stdout",
     "output_type": "stream",
     "text": [
      "Retrieving City number 199 : vanimo\n",
      "Retrieving City number 200 : trairi\n",
      "Retrieving City number 201 : tarauaca\n",
      "Retrieving City number 202 : nanakuli\n",
      "Retrieving City number 203 : atambua\n",
      "Retrieving City number 204 : mattawa\n",
      "Retrieving City number 205 : badulla\n",
      "Retrieving City number 206 : birin\n",
      "Retrieving City number 207 : kamwenge\n",
      "Retrieving City number 208 : yerbogachen\n",
      "City not found. Skipping...\n",
      "Retrieving City number 209 : putina\n",
      "Retrieving City number 210 : sobolevo\n",
      "Retrieving City number 211 : evensk\n",
      "Retrieving City number 212 : chateaudun\n",
      "Retrieving City number 213 : egvekinot\n",
      "Retrieving City number 214 : linares\n",
      "Retrieving City number 215 : port pirie\n",
      "Retrieving City number 216 : narsaq\n",
      "Retrieving City number 217 : sao filipe\n",
      "Retrieving City number 218 : rawson\n",
      "Retrieving City number 219 : goroka\n",
      "Retrieving City number 220 : nanortalik\n",
      "Retrieving City number 221 : novyy urgal\n",
      "Retrieving City number 222 : marang\n",
      "Retrieving City number 223 : saint-georges\n",
      "Retrieving City number 224 : qostanay\n",
      "Retrieving City number 225 : tessalit\n",
      "Retrieving City number 226 : fortuna\n",
      "Retrieving City number 227 : sibolga\n",
      "Retrieving City number 228 : puerto escondido\n",
      "Retrieving City number 229 : bengkulu\n",
      "City not found. Skipping...\n",
      "Retrieving City number 230 : okha\n",
      "Retrieving City number 231 : plettenberg bay\n",
      "Retrieving City number 232 : nyimba\n",
      "Retrieving City number 233 : dingle\n",
      "Retrieving City number 234 : arman\n",
      "City not found. Skipping...\n",
      "Retrieving City number 235 : surgut\n",
      "Retrieving City number 236 : briceno\n",
      "Retrieving City number 237 : tokur\n",
      "Retrieving City number 238 : bonavista\n",
      "Retrieving City number 239 : vao\n",
      "Retrieving City number 240 : kieta\n",
      "City not found. Skipping...\n",
      "Retrieving City number 241 : sinnamary\n",
      "Retrieving City number 242 : normandin\n",
      "Retrieving City number 243 : novopokrovka\n",
      "Retrieving City number 244 : faya\n",
      "City not found. Skipping...\n",
      "Retrieving City number 245 : nantucket\n",
      "Retrieving City number 246 : ayagoz\n",
      "Retrieving City number 247 : washington\n",
      "Retrieving City number 248 : itarema\n",
      "Retrieving City number 249 : payo\n",
      "Retrieving City number 250 : barra do garcas\n",
      "Retrieving City number 251 : davidson\n",
      "Retrieving City number 252 : lebu\n",
      "Retrieving City number 253 : asyut\n",
      "Retrieving City number 254 : houma\n",
      "Retrieving City number 255 : yeppoon\n",
      "Retrieving City number 256 : kashi\n",
      "Retrieving City number 257 : greeneville\n",
      "Retrieving City number 258 : eureka\n",
      "Retrieving City number 259 : victoria\n",
      "Retrieving City number 260 : sambava\n",
      "Retrieving City number 261 : abatskoye\n",
      "Retrieving City number 262 : gouyave\n",
      "Retrieving City number 263 : omboue\n",
      "Retrieving City number 264 : sitio novo do tocantins\n",
      "Retrieving City number 265 : le portel\n",
      "Retrieving City number 266 : gorontalo\n",
      "Retrieving City number 267 : mogadishu\n",
      "Retrieving City number 268 : taurage\n",
      "Retrieving City number 269 : laem sing\n",
      "Retrieving City number 270 : zhangye\n",
      "Retrieving City number 271 : kamina\n",
      "Retrieving City number 272 : luena\n",
      "Retrieving City number 273 : chokurdakh\n",
      "Retrieving City number 274 : tucuman\n",
      "Retrieving City number 275 : ekhabi\n",
      "Retrieving City number 276 : salinopolis\n",
      "Retrieving City number 277 : peleduy\n",
      "Retrieving City number 278 : ekuvukeni\n",
      "Retrieving City number 279 : sitka\n",
      "City not found. Skipping...\n",
      "Retrieving City number 280 : tauramena\n",
      "Retrieving City number 281 : betare oya\n",
      "Retrieving City number 282 : kalmunai\n",
      "Retrieving City number 283 : sorso\n",
      "Retrieving City number 284 : kavaratti\n",
      "Retrieving City number 285 : camacha\n",
      "City not found. Skipping...\n",
      "Retrieving City number 286 : mahebourg\n",
      "City not found. Skipping...\n",
      "Retrieving City number 287 : taree\n",
      "Retrieving City number 288 : gravdal\n",
      "Retrieving City number 289 : intipuca\n",
      "Retrieving City number 290 : pestravka\n",
      "Retrieving City number 291 : san cristobal\n",
      "Retrieving City number 292 : daloa\n",
      "Retrieving City number 293 : pokhara\n",
      "Retrieving City number 294 : bereda\n",
      "Retrieving City number 295 : hasaki\n",
      "Retrieving City number 296 : qasigiannguit\n",
      "Retrieving City number 297 : arrecife\n",
      "Retrieving City number 298 : clyde river\n",
      "City not found. Skipping...\n",
      "Retrieving City number 299 : ust-ilimsk\n",
      "Retrieving City number 300 : kijang\n",
      "Retrieving City number 301 : shizunai\n",
      "Retrieving City number 302 : lorengau\n",
      "Retrieving City number 303 : lahad datu\n",
      "Retrieving City number 304 : naze\n",
      "City not found. Skipping...\n",
      "Retrieving City number 305 : tahta\n",
      "Retrieving City number 306 : zambrow\n",
      "Retrieving City number 307 : odweyne\n",
      "Retrieving City number 308 : lata\n",
      "Retrieving City number 309 : banda aceh\n",
      "Retrieving City number 310 : lompoc\n",
      "Retrieving City number 311 : bonthe\n",
      "Retrieving City number 312 : fairbanks\n",
      "Retrieving City number 313 : ouahigouya\n",
      "Retrieving City number 314 : cururupu\n",
      "Retrieving City number 315 : simbahan\n",
      "Retrieving City number 316 : itaituba\n",
      "Retrieving City number 317 : baft\n",
      "Retrieving City number 318 : hibbing\n",
      "Retrieving City number 319 : padang\n",
      "Retrieving City number 320 : vestmannaeyjar\n",
      "Retrieving City number 321 : luwuk\n",
      "Retrieving City number 322 : kankon\n",
      "Retrieving City number 323 : batticaloa\n",
      "Retrieving City number 324 : guerrero negro\n",
      "Retrieving City number 325 : luganville\n",
      "Retrieving City number 326 : erenhot\n",
      "Retrieving City number 327 : coro\n",
      "Retrieving City number 328 : flinders\n",
      "Retrieving City number 329 : luwingu\n",
      "Retrieving City number 330 : artigas\n",
      "City not found. Skipping...\n",
      "Retrieving City number 331 : belle glade\n",
      "Retrieving City number 332 : unity\n",
      "Retrieving City number 333 : kalabo\n",
      "Retrieving City number 334 : kahama\n",
      "Retrieving City number 335 : pangnirtung\n",
      "Retrieving City number 336 : gat\n",
      "Retrieving City number 337 : berlevag\n",
      "Retrieving City number 338 : neuquen\n",
      "Retrieving City number 339 : sabang\n",
      "Retrieving City number 340 : malabo\n",
      "Retrieving City number 341 : kaitangata\n",
      "Retrieving City number 342 : lavrentiya\n",
      "Retrieving City number 343 : svetlaya\n",
      "Retrieving City number 344 : kampot\n",
      "Retrieving City number 345 : tuma\n",
      "Retrieving City number 346 : kachug\n",
      "Retrieving City number 347 : lubumbashi\n",
      "Retrieving City number 348 : teguise\n",
      "Retrieving City number 349 : jalu\n",
      "Retrieving City number 350 : korla\n",
      "Retrieving City number 351 : iqaluit\n",
      "Retrieving City number 352 : praya\n",
      "Retrieving City number 353 : harboore\n",
      "Retrieving City number 354 : zyryanka\n",
      "Retrieving City number 355 : yar-sale\n",
      "City not found. Skipping...\n",
      "Retrieving City number 356 : basoko\n",
      "Retrieving City number 357 : shingu\n",
      "Retrieving City number 358 : dunedin\n",
      "City not found. Skipping...\n",
      "Retrieving City number 359 : hambantota\n",
      "Retrieving City number 360 : ukiah\n",
      "Retrieving City number 361 : ponta do sol\n",
      "Retrieving City number 362 : greymouth\n",
      "City not found. Skipping...\n",
      "City not found. Skipping...\n",
      "Retrieving City number 363 : shelburne\n",
      "Retrieving City number 364 : muroto\n",
      "Retrieving City number 365 : saint-augustin\n",
      "City not found. Skipping...\n",
      "Retrieving City number 366 : conde\n",
      "Retrieving City number 367 : maposeni\n",
      "Retrieving City number 368 : mao\n",
      "Retrieving City number 369 : ati\n",
      "Retrieving City number 370 : vila franca do campo\n",
      "City not found. Skipping...\n",
      "Retrieving City number 371 : gizo\n",
      "Retrieving City number 372 : wahpeton\n",
      "Retrieving City number 373 : amparafaravola\n",
      "Retrieving City number 374 : kulykivka\n",
      "Retrieving City number 375 : genhe\n",
      "Retrieving City number 376 : karlskrona\n",
      "Retrieving City number 377 : preobrazheniye\n",
      "Retrieving City number 378 : tra vinh\n",
      "Retrieving City number 379 : howard springs\n",
      "Retrieving City number 380 : mehran\n",
      "Retrieving City number 381 : wagga wagga\n",
      "Retrieving City number 382 : mattru\n",
      "Retrieving City number 383 : geraldton\n",
      "Retrieving City number 384 : tromso\n",
      "Retrieving City number 385 : katobu\n",
      "Retrieving City number 386 : esperance\n",
      "Retrieving City number 387 : los llanos de aridane\n",
      "Retrieving City number 388 : mundra\n",
      "Retrieving City number 389 : tabou\n",
      "Retrieving City number 390 : izumrud\n",
      "Retrieving City number 391 : shenjiamen\n",
      "Retrieving City number 392 : gerzat\n",
      "Retrieving City number 393 : puerto leguizamo\n",
      "City not found. Skipping...\n",
      "Retrieving City number 394 : nola\n",
      "City not found. Skipping...\n",
      "Retrieving City number 395 : mehamn\n",
      "Retrieving City number 396 : bilma\n",
      "Retrieving City number 397 : natal\n",
      "Retrieving City number 398 : aksarka\n",
      "City not found. Skipping...\n",
      "City not found. Skipping...\n",
      "Retrieving City number 399 : codrington\n"
     ]
    },
    {
     "name": "stdout",
     "output_type": "stream",
     "text": [
      "Retrieving City number 400 : pandan\n",
      "City not found. Skipping...\n",
      "City not found. Skipping...\n",
      "Retrieving City number 401 : ahipara\n",
      "Retrieving City number 402 : kologriv\n",
      "Retrieving City number 403 : lhokseumawe\n",
      "Retrieving City number 404 : malindi\n",
      "Retrieving City number 405 : micoud\n",
      "Retrieving City number 406 : meulaboh\n",
      "Retrieving City number 407 : kruisfontein\n",
      "City not found. Skipping...\n",
      "Retrieving City number 408 : manoel urbano\n",
      "Retrieving City number 409 : canton\n",
      "Retrieving City number 410 : morondava\n",
      "Retrieving City number 411 : kemijarvi\n",
      "Retrieving City number 412 : tazovskiy\n",
      "Retrieving City number 413 : port elizabeth\n",
      "Retrieving City number 414 : pemangkat\n",
      "City not found. Skipping...\n",
      "Retrieving City number 415 : marsh harbour\n",
      "Retrieving City number 416 : ugoofaaru\n",
      "Retrieving City number 417 : santa isabel do rio negro\n",
      "Retrieving City number 418 : kenora\n",
      "Retrieving City number 419 : mizan teferi\n",
      "Retrieving City number 420 : saint anthony\n",
      "Retrieving City number 421 : saint-pierre\n",
      "Retrieving City number 422 : winnemucca\n",
      "Retrieving City number 423 : miraflores\n",
      "Retrieving City number 424 : athabasca\n",
      "Retrieving City number 425 : port-de-bouc\n",
      "Retrieving City number 426 : sur\n",
      "Retrieving City number 427 : port hawkesbury\n",
      "Retrieving City number 428 : ushirombo\n",
      "Retrieving City number 429 : shakawe\n",
      "Retrieving City number 430 : cap-aux-meules\n",
      "Retrieving City number 431 : manono\n",
      "Retrieving City number 432 : palmas bellas\n",
      "Retrieving City number 433 : talnakh\n",
      "Retrieving City number 434 : santa cruz\n",
      "Retrieving City number 435 : itoman\n",
      "City not found. Skipping...\n",
      "Retrieving City number 436 : malanje\n",
      "Retrieving City number 437 : kitangari\n",
      "Retrieving City number 438 : ostrovnoy\n",
      "Retrieving City number 439 : buin\n",
      "Retrieving City number 440 : nioro\n",
      "Retrieving City number 441 : knysna\n",
      "Retrieving City number 442 : kagoro\n",
      "Retrieving City number 443 : fort nelson\n",
      "Retrieving City number 444 : port hardy\n",
      "Retrieving City number 445 : sao felix do xingu\n",
      "Retrieving City number 446 : kwale\n",
      "Retrieving City number 447 : kupang\n",
      "Retrieving City number 448 : bloomingdale\n",
      "Retrieving City number 449 : lima\n",
      "Retrieving City number 450 : santa catalina\n",
      "Retrieving City number 451 : ivankiv\n",
      "Retrieving City number 452 : hofn\n",
      "Retrieving City number 453 : adamclisi\n",
      "Retrieving City number 454 : messina\n",
      "Retrieving City number 455 : umarkot\n",
      "Retrieving City number 456 : padre bernardo\n",
      "Retrieving City number 457 : santiago del estero\n",
      "Retrieving City number 458 : portland\n",
      "Retrieving City number 459 : norman wells\n",
      "Retrieving City number 460 : bathsheba\n",
      "Retrieving City number 461 : sorong\n",
      "Retrieving City number 462 : wad madani\n",
      "Retrieving City number 463 : port-gentil\n",
      "Retrieving City number 464 : mlowo\n",
      "Retrieving City number 465 : xinzhou\n",
      "Retrieving City number 466 : mangrol\n",
      "Retrieving City number 467 : lahij\n",
      "Retrieving City number 468 : kurchum\n",
      "Retrieving City number 469 : biak\n",
      "Retrieving City number 470 : santa rita\n",
      "Retrieving City number 471 : isangel\n",
      "Retrieving City number 472 : bundaberg\n",
      "Retrieving City number 473 : shahdol\n",
      "Retrieving City number 474 : voznesenye\n",
      "Retrieving City number 475 : homer\n",
      "Retrieving City number 476 : hami\n",
      "Retrieving City number 477 : ashland\n",
      "Retrieving City number 478 : bako\n",
      "Retrieving City number 479 : taoudenni\n",
      "Retrieving City number 480 : fort morgan\n",
      "Retrieving City number 481 : ketchikan\n",
      "Retrieving City number 482 : kloulklubed\n",
      "Retrieving City number 483 : tumarbong\n",
      "Retrieving City number 484 : garden city\n",
      "Retrieving City number 485 : half moon bay\n",
      "Retrieving City number 486 : nalut\n",
      "Retrieving City number 487 : sao joao da barra\n",
      "Retrieving City number 488 : lunel\n",
      "Retrieving City number 489 : alugan\n",
      "Retrieving City number 490 : charters towers\n",
      "Retrieving City number 491 : turukhansk\n",
      "Retrieving City number 492 : sangar\n",
      "Retrieving City number 493 : norfolk\n",
      "City not found. Skipping...\n",
      "Retrieving City number 494 : seymchan\n",
      "Retrieving City number 495 : oyama\n",
      "Retrieving City number 496 : cuamba\n",
      "Retrieving City number 497 : tiznit\n",
      "Retrieving City number 498 : murgab\n",
      "Retrieving City number 499 : zhigansk\n",
      "Retrieving City number 500 : san quintin\n",
      "Retrieving City number 501 : rome\n",
      "Retrieving City number 502 : lipin bor\n",
      "Retrieving City number 503 : manzhouli\n",
      "Retrieving City number 504 : coihaique\n",
      "Retrieving City number 505 : trapani\n",
      "Retrieving City number 506 : loandjili\n",
      "Retrieving City number 507 : namatanai\n",
      "Retrieving City number 508 : maroantsetra\n",
      "Retrieving City number 509 : gamba\n",
      "Retrieving City number 510 : jacareacanga\n",
      "Retrieving City number 511 : sistranda\n",
      "Retrieving City number 512 : beloha\n",
      "Retrieving City number 513 : frontera\n",
      "Retrieving City number 514 : salalah\n",
      "Retrieving City number 515 : willmar\n",
      "Retrieving City number 516 : mikhaylovka\n",
      "Retrieving City number 517 : lokachi\n",
      "Retrieving City number 518 : anadyr\n",
      "Retrieving City number 519 : villa carlos paz\n",
      "Retrieving City number 520 : vilyuysk\n",
      "Retrieving City number 521 : rogovatoye\n",
      "Retrieving City number 522 : alamor\n",
      "Retrieving City number 523 : putnok\n",
      "Retrieving City number 524 : sahuaripa\n",
      "Retrieving City number 525 : grindavik\n",
      "Retrieving City number 526 : yulara\n",
      "Retrieving City number 527 : foix\n",
      "Retrieving City number 528 : kananga\n",
      "Retrieving City number 529 : beringovskiy\n",
      "Retrieving City number 530 : alice springs\n",
      "Retrieving City number 531 : khandbari\n",
      "Retrieving City number 532 : labuan\n",
      "Retrieving City number 533 : chiang khong\n",
      "Retrieving City number 534 : raga\n",
      "Retrieving City number 535 : the valley\n",
      "Retrieving City number 536 : yumen\n",
      "Retrieving City number 537 : nkowakowa\n",
      "Retrieving City number 538 : ialibu\n",
      "Retrieving City number 539 : crateus\n",
      "Retrieving City number 540 : muzhi\n",
      "Retrieving City number 541 : orlik\n",
      "Retrieving City number 542 : gombe\n",
      "Retrieving City number 543 : glenwood springs\n",
      "Retrieving City number 544 : jumla\n",
      "Retrieving City number 545 : santa vitoria do palmar\n",
      "Retrieving City number 546 : kenai\n",
      "Retrieving City number 547 : le vauclin\n",
      "Retrieving City number 548 : hella\n",
      "Retrieving City number 549 : nenjiang\n",
      "City not found. Skipping...\n",
      "Retrieving City number 550 : alta floresta\n",
      "Retrieving City number 551 : komsomolskiy\n",
      "Retrieving City number 552 : asbestovskiy\n",
      "Retrieving City number 553 : san jose\n",
      "Retrieving City number 554 : consett\n",
      "Retrieving City number 555 : north bend\n",
      "Retrieving City number 556 : chissamba\n",
      "Retrieving City number 557 : zhezkazgan\n",
      "Retrieving City number 558 : kysyl-syr\n",
      "Retrieving City number 559 : ornskoldsvik\n",
      "Retrieving City number 560 : tamworth\n",
      "Retrieving City number 561 : sisimiut\n",
      "Retrieving City number 562 : kulykiv\n",
      "Retrieving City number 563 : latung\n",
      "Retrieving City number 564 : vlore\n",
      "Retrieving City number 565 : martapura\n",
      "Retrieving City number 566 : christchurch\n",
      "Retrieving City number 567 : jishou\n",
      "Retrieving City number 568 : chapais\n",
      "Retrieving City number 569 : greenville\n",
      "Retrieving City number 570 : nemuro\n",
      "Retrieving City number 571 : guane\n",
      "Retrieving City number 572 : raudeberg\n",
      "Retrieving City number 573 : malakal\n",
      "Complete\n"
     ]
    }
   ],
   "source": [
    "# For each city name in cities list\n",
    "\n",
    "print('Finding cities')\n",
    "for index, city in enumerate(cities, start = 1):\n",
    "    try:\n",
    "        response = requests.get(qurl + city).json()\n",
    "        City.append(response[\"name\"])\n",
    "        cloudiness.append(response[\"clouds\"][\"all\"])\n",
    "        country.append(response[\"sys\"][\"country\"])\n",
    "        date.append(response[\"dt\"])\n",
    "        humidity.append(response[\"main\"][\"humidity\"])\n",
    "        lat.append(response[\"coord\"][\"lat\"])\n",
    "        lon.append(response[\"coord\"][\"lon\"])\n",
    "        maxTemp.append(response['main']['temp_max'])\n",
    "        windspeed.append(response[\"wind\"][\"speed\"])\n",
    "        if index > 0:\n",
    "            index = 0\n",
    "            counter = counter + 1\n",
    "    \n",
    "        else:\n",
    "            index = index + 1\n",
    "            \n",
    "        print(f\"Retrieving City number {counter} : {city}\") \n",
    "  \n",
    "    except(KeyError, IndexError):\n",
    "        print(\"City not found. Skipping...\")\n",
    "\n",
    "\n",
    "\n"
   ]
  },
  {
   "cell_type": "markdown",
   "metadata": {},
   "source": [
    "### Convert Raw Data to DataFrame\n",
    "* Export the city data into a .csv.\n",
    "* Display the DataFrame"
   ]
  },
  {
   "cell_type": "code",
   "execution_count": 7,
   "metadata": {},
   "outputs": [
    {
     "data": {
      "text/html": [
       "<div>\n",
       "<style scoped>\n",
       "    .dataframe tbody tr th:only-of-type {\n",
       "        vertical-align: middle;\n",
       "    }\n",
       "\n",
       "    .dataframe tbody tr th {\n",
       "        vertical-align: top;\n",
       "    }\n",
       "\n",
       "    .dataframe thead th {\n",
       "        text-align: right;\n",
       "    }\n",
       "</style>\n",
       "<table border=\"1\" class=\"dataframe\">\n",
       "  <thead>\n",
       "    <tr style=\"text-align: right;\">\n",
       "      <th></th>\n",
       "      <th>City</th>\n",
       "      <th>Cloudiness</th>\n",
       "      <th>Country</th>\n",
       "      <th>Date</th>\n",
       "      <th>Humidity</th>\n",
       "      <th>Latitude</th>\n",
       "      <th>Longitude</th>\n",
       "      <th>Max Temp</th>\n",
       "      <th>Wind Speed</th>\n",
       "    </tr>\n",
       "  </thead>\n",
       "  <tbody>\n",
       "    <tr>\n",
       "      <th>0</th>\n",
       "      <td>Albany</td>\n",
       "      <td>100</td>\n",
       "      <td>US</td>\n",
       "      <td>1627435753</td>\n",
       "      <td>92</td>\n",
       "      <td>42.6001</td>\n",
       "      <td>-73.9662</td>\n",
       "      <td>68.14</td>\n",
       "      <td>1.52</td>\n",
       "    </tr>\n",
       "    <tr>\n",
       "      <th>1</th>\n",
       "      <td>Bambous Virieux</td>\n",
       "      <td>75</td>\n",
       "      <td>MU</td>\n",
       "      <td>1627436082</td>\n",
       "      <td>94</td>\n",
       "      <td>-20.3428</td>\n",
       "      <td>57.7575</td>\n",
       "      <td>67.21</td>\n",
       "      <td>17.27</td>\n",
       "    </tr>\n",
       "    <tr>\n",
       "      <th>2</th>\n",
       "      <td>Nikolskoye</td>\n",
       "      <td>100</td>\n",
       "      <td>RU</td>\n",
       "      <td>1627436053</td>\n",
       "      <td>68</td>\n",
       "      <td>59.7035</td>\n",
       "      <td>30.7861</td>\n",
       "      <td>64.02</td>\n",
       "      <td>4.65</td>\n",
       "    </tr>\n",
       "    <tr>\n",
       "      <th>3</th>\n",
       "      <td>Chui</td>\n",
       "      <td>29</td>\n",
       "      <td>UY</td>\n",
       "      <td>1627436039</td>\n",
       "      <td>70</td>\n",
       "      <td>-33.6971</td>\n",
       "      <td>-53.4616</td>\n",
       "      <td>42.22</td>\n",
       "      <td>16.02</td>\n",
       "    </tr>\n",
       "    <tr>\n",
       "      <th>4</th>\n",
       "      <td>Faanui</td>\n",
       "      <td>55</td>\n",
       "      <td>PF</td>\n",
       "      <td>1627436087</td>\n",
       "      <td>75</td>\n",
       "      <td>-16.4833</td>\n",
       "      <td>-151.7500</td>\n",
       "      <td>77.79</td>\n",
       "      <td>8.99</td>\n",
       "    </tr>\n",
       "  </tbody>\n",
       "</table>\n",
       "</div>"
      ],
      "text/plain": [
       "              City  Cloudiness Country        Date  Humidity  Latitude  \\\n",
       "0           Albany         100      US  1627435753        92   42.6001   \n",
       "1  Bambous Virieux          75      MU  1627436082        94  -20.3428   \n",
       "2       Nikolskoye         100      RU  1627436053        68   59.7035   \n",
       "3             Chui          29      UY  1627436039        70  -33.6971   \n",
       "4           Faanui          55      PF  1627436087        75  -16.4833   \n",
       "\n",
       "   Longitude  Max Temp  Wind Speed  \n",
       "0   -73.9662     68.14        1.52  \n",
       "1    57.7575     67.21       17.27  \n",
       "2    30.7861     64.02        4.65  \n",
       "3   -53.4616     42.22       16.02  \n",
       "4  -151.7500     77.79        8.99  "
      ]
     },
     "execution_count": 7,
     "metadata": {},
     "output_type": "execute_result"
    }
   ],
   "source": [
    "#DF then CSV\n",
    "weatherDF = pd.DataFrame({ \n",
    "                \"City\" : City,\n",
    "                \"Cloudiness\" : cloudiness,\n",
    "                \"Country\" : country,\n",
    "                \"Date\" : date,\n",
    "                \"Humidity\" : humidity,\n",
    "                \"Latitude\" : lat,\n",
    "                \"Longitude\" : lon,\n",
    "                \"Max Temp\" : maxTemp,\n",
    "                \"Wind Speed\" : windspeed})\n",
    "    \n",
    "weatherDF.head()"
   ]
  },
  {
   "cell_type": "code",
   "execution_count": 8,
   "metadata": {},
   "outputs": [],
   "source": [
    "weatherDF.to_csv(\"../output_data/cities.csv\")"
   ]
  },
  {
   "cell_type": "markdown",
   "metadata": {},
   "source": [
    "## Inspect the data and remove the cities where the humidity > 100%.\n",
    "----\n",
    "Skip this step if there are no cities that have humidity > 100%. "
   ]
  },
  {
   "cell_type": "code",
   "execution_count": 9,
   "metadata": {},
   "outputs": [
    {
     "data": {
      "text/html": [
       "<div>\n",
       "<style scoped>\n",
       "    .dataframe tbody tr th:only-of-type {\n",
       "        vertical-align: middle;\n",
       "    }\n",
       "\n",
       "    .dataframe tbody tr th {\n",
       "        vertical-align: top;\n",
       "    }\n",
       "\n",
       "    .dataframe thead th {\n",
       "        text-align: right;\n",
       "    }\n",
       "</style>\n",
       "<table border=\"1\" class=\"dataframe\">\n",
       "  <thead>\n",
       "    <tr style=\"text-align: right;\">\n",
       "      <th></th>\n",
       "      <th>City</th>\n",
       "      <th>Cloudiness</th>\n",
       "      <th>Country</th>\n",
       "      <th>Date</th>\n",
       "      <th>Humidity</th>\n",
       "      <th>Latitude</th>\n",
       "      <th>Longitude</th>\n",
       "      <th>Max Temp</th>\n",
       "      <th>Wind Speed</th>\n",
       "    </tr>\n",
       "  </thead>\n",
       "  <tbody>\n",
       "    <tr>\n",
       "      <th>18</th>\n",
       "      <td>Vestmanna</td>\n",
       "      <td>90</td>\n",
       "      <td>FO</td>\n",
       "      <td>1627436202</td>\n",
       "      <td>100</td>\n",
       "      <td>62.1564</td>\n",
       "      <td>-7.1664</td>\n",
       "      <td>49.12</td>\n",
       "      <td>4.61</td>\n",
       "    </tr>\n",
       "    <tr>\n",
       "      <th>22</th>\n",
       "      <td>Ushuaia</td>\n",
       "      <td>90</td>\n",
       "      <td>AR</td>\n",
       "      <td>1627435743</td>\n",
       "      <td>100</td>\n",
       "      <td>-54.8000</td>\n",
       "      <td>-68.3000</td>\n",
       "      <td>37.06</td>\n",
       "      <td>4.61</td>\n",
       "    </tr>\n",
       "    <tr>\n",
       "      <th>210</th>\n",
       "      <td>Châteaudun</td>\n",
       "      <td>90</td>\n",
       "      <td>FR</td>\n",
       "      <td>1627436365</td>\n",
       "      <td>100</td>\n",
       "      <td>48.0833</td>\n",
       "      <td>1.3333</td>\n",
       "      <td>61.00</td>\n",
       "      <td>5.75</td>\n",
       "    </tr>\n",
       "    <tr>\n",
       "      <th>233</th>\n",
       "      <td>Surgut</td>\n",
       "      <td>75</td>\n",
       "      <td>RU</td>\n",
       "      <td>1627436371</td>\n",
       "      <td>100</td>\n",
       "      <td>61.2500</td>\n",
       "      <td>73.4167</td>\n",
       "      <td>53.78</td>\n",
       "      <td>13.42</td>\n",
       "    </tr>\n",
       "    <tr>\n",
       "      <th>334</th>\n",
       "      <td>Kiryat Gat</td>\n",
       "      <td>0</td>\n",
       "      <td>IL</td>\n",
       "      <td>1627436280</td>\n",
       "      <td>100</td>\n",
       "      <td>31.6100</td>\n",
       "      <td>34.7642</td>\n",
       "      <td>77.92</td>\n",
       "      <td>1.16</td>\n",
       "    </tr>\n",
       "    <tr>\n",
       "      <th>364</th>\n",
       "      <td>Conde</td>\n",
       "      <td>20</td>\n",
       "      <td>BR</td>\n",
       "      <td>1627436409</td>\n",
       "      <td>100</td>\n",
       "      <td>-7.2597</td>\n",
       "      <td>-34.9075</td>\n",
       "      <td>72.86</td>\n",
       "      <td>4.61</td>\n",
       "    </tr>\n",
       "    <tr>\n",
       "      <th>382</th>\n",
       "      <td>Tromsø</td>\n",
       "      <td>90</td>\n",
       "      <td>NO</td>\n",
       "      <td>1627436415</td>\n",
       "      <td>100</td>\n",
       "      <td>69.6496</td>\n",
       "      <td>18.9570</td>\n",
       "      <td>49.37</td>\n",
       "      <td>13.80</td>\n",
       "    </tr>\n",
       "    <tr>\n",
       "      <th>468</th>\n",
       "      <td>Santa Rita</td>\n",
       "      <td>20</td>\n",
       "      <td>BR</td>\n",
       "      <td>1627436439</td>\n",
       "      <td>100</td>\n",
       "      <td>-7.1139</td>\n",
       "      <td>-34.9781</td>\n",
       "      <td>74.07</td>\n",
       "      <td>4.61</td>\n",
       "    </tr>\n",
       "  </tbody>\n",
       "</table>\n",
       "</div>"
      ],
      "text/plain": [
       "           City  Cloudiness Country        Date  Humidity  Latitude  \\\n",
       "18    Vestmanna          90      FO  1627436202       100   62.1564   \n",
       "22      Ushuaia          90      AR  1627435743       100  -54.8000   \n",
       "210  Châteaudun          90      FR  1627436365       100   48.0833   \n",
       "233      Surgut          75      RU  1627436371       100   61.2500   \n",
       "334  Kiryat Gat           0      IL  1627436280       100   31.6100   \n",
       "364       Conde          20      BR  1627436409       100   -7.2597   \n",
       "382      Tromsø          90      NO  1627436415       100   69.6496   \n",
       "468  Santa Rita          20      BR  1627436439       100   -7.1139   \n",
       "\n",
       "     Longitude  Max Temp  Wind Speed  \n",
       "18     -7.1664     49.12        4.61  \n",
       "22    -68.3000     37.06        4.61  \n",
       "210     1.3333     61.00        5.75  \n",
       "233    73.4167     53.78       13.42  \n",
       "334    34.7642     77.92        1.16  \n",
       "364   -34.9075     72.86        4.61  \n",
       "382    18.9570     49.37       13.80  \n",
       "468   -34.9781     74.07        4.61  "
      ]
     },
     "execution_count": 9,
     "metadata": {},
     "output_type": "execute_result"
    }
   ],
   "source": [
    "weatherDF[weatherDF['Humidity']>=100]\n",
    "#no rows have greater humidity than 100%, but it is possible"
   ]
  },
  {
   "cell_type": "code",
   "execution_count": 10,
   "metadata": {},
   "outputs": [],
   "source": [
    "#  Get the indices of cities that have humidity over 100%.\n",
    "# No rows have more than 100% humidity-see above"
   ]
  },
  {
   "cell_type": "code",
   "execution_count": 11,
   "metadata": {},
   "outputs": [],
   "source": [
    "# Make a new DataFrame equal to the city data to drop all humidity outliers by index.\n",
    "# Passing \"inplace=False\" will make a copy of the city_data DataFrame, which we call \"clean_city_data\".\n",
    "#see above\n"
   ]
  },
  {
   "cell_type": "code",
   "execution_count": null,
   "metadata": {},
   "outputs": [],
   "source": [
    "\n"
   ]
  },
  {
   "cell_type": "markdown",
   "metadata": {},
   "source": [
    "## Plotting the Data\n",
    "* Use proper labeling of the plots using plot titles (including date of analysis) and axes labels.\n",
    "* Save the plotted figures as .pngs."
   ]
  },
  {
   "cell_type": "markdown",
   "metadata": {},
   "source": [
    "## Latitude vs. Temperature Plot"
   ]
  },
  {
   "cell_type": "code",
   "execution_count": 12,
   "metadata": {
    "scrolled": true
   },
   "outputs": [
    {
     "data": {
      "image/png": "[encoded data removed]",
      "text/plain": [
       "<Figure size 432x288 with 1 Axes>"
      ]
     },
     "metadata": {
      "needs_background": "light"
     },
     "output_type": "display_data"
    }
   ],
   "source": [
    "Lat = weatherDF['Latitude']\n",
    "Temp = weatherDF['Max Temp']\n",
    "\n",
    "plt.scatter(Lat,Temp)\n",
    "plt.title('City Lat compared to City Max Temp-7.27.21')\n",
    "plt.xlabel('Latitude')\n",
    "plt.ylabel('Max Temperature')\n",
    "plt.savefig('../Images/ScatterPlotTempLat.png')\n",
    "plt.show()"
   ]
  },
  {
   "cell_type": "markdown",
   "metadata": {},
   "source": [
    "## Latitude vs. Humidity Plot"
   ]
  },
  {
   "cell_type": "code",
   "execution_count": 13,
   "metadata": {},
   "outputs": [
    {
     "data": {
      "image/png": "[encoded data removed]",
      "text/plain": [
       "<Figure size 432x288 with 1 Axes>"
      ]
     },
     "metadata": {
      "needs_background": "light"
     },
     "output_type": "display_data"
    }
   ],
   "source": [
    "Lat = weatherDF['Latitude']\n",
    "Hum = weatherDF['Humidity']\n",
    "\n",
    "plt.scatter(Lat,Hum)\n",
    "plt.title('City Lat compared to City Humidity7.27.21')\n",
    "plt.xlabel('Latitude')\n",
    "plt.ylabel('Humidity')\n",
    "plt.savefig('../Images/ScatterPlotHumLat.png')\n",
    "plt.show()"
   ]
  },
  {
   "cell_type": "markdown",
   "metadata": {},
   "source": [
    "## Latitude vs. Cloudiness Plot"
   ]
  },
  {
   "cell_type": "code",
   "execution_count": 14,
   "metadata": {},
   "outputs": [
    {
     "data": {
      "image/png": "[encoded data removed]",
      "text/plain": [
       "<Figure size 432x288 with 1 Axes>"
      ]
     },
     "metadata": {
      "needs_background": "light"
     },
     "output_type": "display_data"
    }
   ],
   "source": [
    "Lat = weatherDF['Latitude']\n",
    "Cld = weatherDF['Cloudiness']\n",
    "\n",
    "plt.scatter(Lat,Cld)\n",
    "plt.title('City Latitude compared to City Cloudiness-7.27.21')\n",
    "plt.xlabel('Latitude')\n",
    "plt.ylabel('Cloud Cover')\n",
    "plt.savefig('../Images/ScatterPlotCldLat.png')\n",
    "plt.show()"
   ]
  },
  {
   "cell_type": "markdown",
   "metadata": {},
   "source": [
    "## Latitude vs. Wind Speed Plot"
   ]
  },
  {
   "cell_type": "code",
   "execution_count": 15,
   "metadata": {},
   "outputs": [
    {
     "data": {
      "image/png": "[encoded data removed]",
      "text/plain": [
       "<Figure size 432x288 with 1 Axes>"
      ]
     },
     "metadata": {
      "needs_background": "light"
     },
     "output_type": "display_data"
    }
   ],
   "source": [
    "Lat = weatherDF['Latitude']\n",
    "Wind = weatherDF['Wind Speed']\n",
    "\n",
    "plt.scatter(Lat,Wind)\n",
    "plt.title('City Lat compared to City Wind-7.27.21')\n",
    "plt.xlabel('Latitude')\n",
    "plt.ylabel('Wind Speed')\n",
    "plt.savefig('../Images/ScatterPlotWindLat.png')\n",
    "plt.show()"
   ]
  },
  {
   "cell_type": "markdown",
   "metadata": {},
   "source": [
    "## Linear Regression"
   ]
  },
  {
   "cell_type": "code",
   "execution_count": 16,
   "metadata": {},
   "outputs": [],
   "source": [
    "# This makes two dataframes, one for at or over the equator and one for lower, then there is the function for linear regression\n",
    "NHemi = weatherDF[weatherDF['Latitude']>=0]\n",
    "SHemi = weatherDF[weatherDF['Latitude']<0]\n",
    "def plot_linear_regression(x, y, title, text_coordinates):\n",
    "    (slope, intercept, rvalue, pvalue, stderr) = linregress(x, y)\n",
    "    regress_values = slope * x + intercept\n",
    "    line_eq = \"y = \" + str(round(slope,2)) + \"x + \" + str(round(intercept,2))\n",
    "    \n",
    "    plt.scatter(x,y)\n",
    "    plt.plot(x,regress_values,\"r-\")\n",
    "    plt.annotate(line_eq,text_coordinates,fontsize=12,color=\"red\")\n",
    "    plt.xlabel(\"Latitude\")\n",
    "    plt.ylabel(title)\n",
    "    print(f\"The r-squared is: {rvalue}\")\n",
    "    plt.show()"
   ]
  },
  {
   "cell_type": "markdown",
   "metadata": {},
   "source": [
    "####  Northern Hemisphere - Max Temp vs. Latitude Linear Regression"
   ]
  },
  {
   "cell_type": "code",
   "execution_count": 17,
   "metadata": {},
   "outputs": [
    {
     "name": "stdout",
     "output_type": "stream",
     "text": [
      "The r-squared is: -0.6262273700148977\n"
     ]
    },
    {
     "data": {
      "image/png": "[encoded data removed]",
      "text/plain": [
       "<Figure size 432x288 with 1 Axes>"
      ]
     },
     "metadata": {
      "needs_background": "light"
     },
     "output_type": "display_data"
    },
    {
     "data": {
      "text/plain": [
       "<Figure size 432x288 with 0 Axes>"
      ]
     },
     "metadata": {},
     "output_type": "display_data"
    }
   ],
   "source": [
    "#This compares the max temp and latitutde of cities in the northern hemisphere, \n",
    "#it shows a negative correlation meaning that as the latitude increases the max tempurature decreases, the strength of correlation\n",
    "#is fairly strong\n",
    "x = NHemi[\"Latitude\"]\n",
    "y = NHemi[\"Max Temp\"]\n",
    "plot_linear_regression(x,y,'Max Temp',(6,30))\n",
    "\n",
    "plt.savefig('../Images/NHTempLat')"
   ]
  },
  {
   "cell_type": "markdown",
   "metadata": {},
   "source": [
    "####  Southern Hemisphere - Max Temp vs. Latitude Linear Regression"
   ]
  },
  {
   "cell_type": "code",
   "execution_count": 18,
   "metadata": {},
   "outputs": [
    {
     "name": "stdout",
     "output_type": "stream",
     "text": [
      "The r-squared is: 0.6752075327110598\n"
     ]
    },
    {
     "data": {
      "image/png": "[encoded data removed]",
      "text/plain": [
       "<Figure size 432x288 with 1 Axes>"
      ]
     },
     "metadata": {
      "needs_background": "light"
     },
     "output_type": "display_data"
    },
    {
     "data": {
      "text/plain": [
       "<Figure size 432x288 with 0 Axes>"
      ]
     },
     "metadata": {},
     "output_type": "display_data"
    }
   ],
   "source": [
    "#This compares the max temp and latitutde of cities in the southern hemisphere, \n",
    "#it shows a positive correlation meaning that as the latitude increases towards 0 the max tempurature also increases.  \n",
    "#The strength of\n",
    "#correlation is fairly strong, stronger than the negative correlatoin shown in the above plot\n",
    "x = SHemi[\"Latitude\"]\n",
    "y = SHemi[\"Max Temp\"]\n",
    "plot_linear_regression(x,y,'Max Temp',(6,30))\n",
    "\n",
    "plt.savefig('../Images/SHTempLat')"
   ]
  },
  {
   "cell_type": "markdown",
   "metadata": {},
   "source": [
    "####  Northern Hemisphere - Humidity (%) vs. Latitude Linear Regression"
   ]
  },
  {
   "cell_type": "code",
   "execution_count": 26,
   "metadata": {},
   "outputs": [
    {
     "name": "stdout",
     "output_type": "stream",
     "text": [
      "The r-squared is: -0.06883127736226685\n"
     ]
    },
    {
     "data": {
      "image/png": "[encoded data removed]",
      "text/plain": [
       "<Figure size 432x288 with 1 Axes>"
      ]
     },
     "metadata": {
      "needs_background": "light"
     },
     "output_type": "display_data"
    },
    {
     "data": {
      "text/plain": [
       "<Figure size 432x288 with 0 Axes>"
      ]
     },
     "metadata": {},
     "output_type": "display_data"
    }
   ],
   "source": [
    "#This plot shows minimal negative correlation between humidity and latitude\n",
    "x = NHemi[\"Latitude\"]\n",
    "y = NHemi[\"Humidity\"]\n",
    "plot_linear_regression(x,y,'Humidity',(6,30))\n",
    "\n",
    "plt.savefig('../Images/NHHumLat')"
   ]
  },
  {
   "cell_type": "markdown",
   "metadata": {},
   "source": [
    "####  Southern Hemisphere - Humidity (%) vs. Latitude Linear Regression"
   ]
  },
  {
   "cell_type": "code",
   "execution_count": 25,
   "metadata": {},
   "outputs": [
    {
     "name": "stdout",
     "output_type": "stream",
     "text": [
      "The r-squared is: 0.04998363693045682\n"
     ]
    },
    {
     "data": {
      "image/png": "[encoded data removed]",
      "text/plain": [
       "<Figure size 432x288 with 1 Axes>"
      ]
     },
     "metadata": {
      "needs_background": "light"
     },
     "output_type": "display_data"
    },
    {
     "data": {
      "text/plain": [
       "<Figure size 432x288 with 0 Axes>"
      ]
     },
     "metadata": {},
     "output_type": "display_data"
    }
   ],
   "source": [
    "#This plot shows minimal correlation between humidity and latitude\n",
    "x = SHemi[\"Latitude\"]\n",
    "y = SHemi[\"Humidity\"]\n",
    "plot_linear_regression(x,y,'Humidity',(6,30))\n",
    "\n",
    "plt.savefig('../Images/SHHumLat')"
   ]
  },
  {
   "cell_type": "markdown",
   "metadata": {},
   "source": [
    "####  Northern Hemisphere - Cloudiness (%) vs. Latitude Linear Regression"
   ]
  },
  {
   "cell_type": "code",
   "execution_count": 21,
   "metadata": {},
   "outputs": [
    {
     "name": "stdout",
     "output_type": "stream",
     "text": [
      "The r-squared is: -0.0788074073163856\n"
     ]
    },
    {
     "data": {
      "image/png": "[encoded data removed]",
      "text/plain": [
       "<Figure size 432x288 with 1 Axes>"
      ]
     },
     "metadata": {
      "needs_background": "light"
     },
     "output_type": "display_data"
    },
    {
     "data": {
      "text/plain": [
       "<Figure size 432x288 with 0 Axes>"
      ]
     },
     "metadata": {},
     "output_type": "display_data"
    }
   ],
   "source": [
    "#This plot shows minimal negative correlation between cloudiness and latitude\n",
    "x = NHemi[\"Latitude\"]\n",
    "y = NHemi[\"Cloudiness\"]\n",
    "plot_linear_regression(x,y,'Cloudiness',(6,30))\n",
    "\n",
    "plt.savefig('../Images/NHCldLat')"
   ]
  },
  {
   "cell_type": "markdown",
   "metadata": {},
   "source": [
    "####  Southern Hemisphere - Cloudiness (%) vs. Latitude Linear Regression"
   ]
  },
  {
   "cell_type": "code",
   "execution_count": 22,
   "metadata": {},
   "outputs": [
    {
     "name": "stdout",
     "output_type": "stream",
     "text": [
      "The r-squared is: 0.007234061188677211\n"
     ]
    },
    {
     "data": {
      "image/png": "[encoded data removed]",
      "text/plain": [
       "<Figure size 432x288 with 1 Axes>"
      ]
     },
     "metadata": {
      "needs_background": "light"
     },
     "output_type": "display_data"
    },
    {
     "data": {
      "text/plain": [
       "<Figure size 432x288 with 0 Axes>"
      ]
     },
     "metadata": {},
     "output_type": "display_data"
    }
   ],
   "source": [
    "#This plot shows minimal correlation between cloudiness and latitude\n",
    "x = SHemi[\"Latitude\"]\n",
    "y = SHemi[\"Cloudiness\"]\n",
    "plot_linear_regression(x,y,'Cloudiness',(6,30))\n",
    "\n",
    "plt.savefig('../Images/SHCldLat')"
   ]
  },
  {
   "cell_type": "markdown",
   "metadata": {},
   "source": [
    "####  Northern Hemisphere - Wind Speed (mph) vs. Latitude Linear Regression"
   ]
  },
  {
   "cell_type": "code",
   "execution_count": 23,
   "metadata": {},
   "outputs": [
    {
     "name": "stdout",
     "output_type": "stream",
     "text": [
      "The r-squared is: -0.061776566614600625\n"
     ]
    },
    {
     "data": {
      "image/png": "[encoded data removed]",
      "text/plain": [
       "<Figure size 432x288 with 1 Axes>"
      ]
     },
     "metadata": {
      "needs_background": "light"
     },
     "output_type": "display_data"
    },
    {
     "data": {
      "text/plain": [
       "<Figure size 432x288 with 0 Axes>"
      ]
     },
     "metadata": {},
     "output_type": "display_data"
    }
   ],
   "source": [
    "#This plot shows minimal negative correlation between wind speed and latitude\n",
    "x = NHemi[\"Latitude\"]\n",
    "y = NHemi[\"Wind Speed\"]\n",
    "plot_linear_regression(x,y,'Wind Speed',(6,30))\n",
    "\n",
    "plt.savefig('../Images/NHWindLat')"
   ]
  },
  {
   "cell_type": "markdown",
   "metadata": {},
   "source": [
    "####  Southern Hemisphere - Wind Speed (mph) vs. Latitude Linear Regression"
   ]
  },
  {
   "cell_type": "code",
   "execution_count": 24,
   "metadata": {},
   "outputs": [
    {
     "name": "stdout",
     "output_type": "stream",
     "text": [
      "The r-squared is: -0.28396853293438906\n"
     ]
    },
    {
     "data": {
      "image/png": "[encoded data removed]",
      "text/plain": [
       "<Figure size 432x288 with 1 Axes>"
      ]
     },
     "metadata": {
      "needs_background": "light"
     },
     "output_type": "display_data"
    },
    {
     "data": {
      "text/plain": [
       "<Figure size 432x288 with 0 Axes>"
      ]
     },
     "metadata": {},
     "output_type": "display_data"
    }
   ],
   "source": [
    "#This plot shows minimal negative correlation between windspeed and latitude\n",
    "x = SHemi[\"Latitude\"]\n",
    "y = SHemi[\"Wind Speed\"]\n",
    "plot_linear_regression(x,y,'Wind Speed',(6,30))\n",
    "\n",
    "plt.savefig('../Images/SHWindLat')"
   ]
  },
  {
   "cell_type": "code",
   "execution_count": null,
   "metadata": {},
   "outputs": [],
   "source": []
  }
 ],
 "metadata": {
  "anaconda-cloud": {},
  "kernel_info": {
   "name": "python3"
  },
  "kernelspec": {
   "display_name": "Python 3",
   "language": "python",
   "name": "python3"
  },
  "language_info": {
   "codemirror_mode": {
    "name": "ipython",
    "version": 3
   },
   "file_extension": ".py",
   "mimetype": "text/x-python",
   "name": "python",
   "nbconvert_exporter": "python",
   "pygments_lexer": "ipython3",
   "version": "3.8.8"
  },
  "latex_envs": {
   "LaTeX_envs_menu_present": true,
   "autoclose": false,
   "autocomplete": true,
   "bibliofile": "biblio.bib",
   "cite_by": "apalike",
   "current_citInitial": 1,
   "eqLabelWithNumbers": true,
   "eqNumInitial": 1,
   "hotkeys": {
    "equation": "Ctrl-E",
    "itemize": "Ctrl-I"
   },
   "labels_anchors": false,
   "latex_user_defs": false,
   "report_style_numbering": false,
   "user_envs_cfg": false
  },
  "nteract": {
   "version": "0.12.3"
  }
 },
 "nbformat": 4,
 "nbformat_minor": 4
}
